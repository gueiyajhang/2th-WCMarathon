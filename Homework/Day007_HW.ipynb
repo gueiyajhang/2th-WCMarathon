{
 "cells": [
  {
   "cell_type": "markdown",
   "metadata": {},
   "source": [
    "# HTTP 靜態網頁架構說明\n",
    "\n",
    "* 認識靜態網頁的溝通架構與運作原理\n",
    "* HTML、CSS、JavaScript 在網頁中扮演的角色\n",
    "* 網頁中定位資料的方法"
   ]
  },
  {
   "cell_type": "markdown",
   "metadata": {},
   "source": [
    "## 作業目標\n",
    "\n",
    "1. （簡答題）請問目前提到的這種基於 HTTP 一來一回的網頁傳輸方式，有哪些缺點及問題？\n",
    "2. （簡答題）網頁中使用的 JavaScipt 程式語言，跟我們一般使用的 Python 在執行上有什麼不同。\n"
   ]
  },
  {
   "cell_type": "markdown",
   "metadata": {},
   "source": [
    "### 1.（簡答題）請問目前提到的這種基於 HTTP 一來一回的網頁傳輸方式，有哪些缺點及問題？"
   ]
  },
  {
   "cell_type": "markdown",
   "metadata": {},
   "source": [
    "傳統的 HTTP 機制都是一個 Request 搭配一個 Response，如果畫面上一個小改變可能就需要重新發送 Request 並處理 Response。舉個例子：如果我的畫面上有很多張圖片，但只是想要改變一個小部分，但每次操作都必須全部圖片重新載入。\n",
    "[HTTPS/=HTTP](https://progressbar.tw/posts/101)"
   ]
  },
  {
   "cell_type": "markdown",
   "metadata": {},
   "source": [
    "### 2. （簡答題）網頁中使用的 JavaScipt 程式語言，跟我們一般使用的 Python 在執行上有什麼不同。"
   ]
  },
  {
   "cell_type": "markdown",
   "metadata": {},
   "source": [
    "JavaScript 由於JavaScript當初是以前端語言出現的，提供瀏覽器動態功能。 在2009年Node.js作為後端語言出現後，可使用JavaScript對前端和服務器端進行編程。 相較於Python只能使用在後端，JavaScript則可使用在前端與後端。\n",
    "\n",
    "Python Python是以物件導向程式設計(Object-oriented programming)的編程語言，提供清晰結構和更真實動態來降低複雜性。 雖有應用在網頁上，但目前應用在數據分析、人工智慧、機器學習等領域為居多。\n",
    "[JavaScirpt v.s. python](https://xccelerate.co/blog/python-vs-javascript-cn)"
   ]
  },
  {
   "cell_type": "code",
   "execution_count": null,
   "metadata": {},
   "outputs": [],
   "source": []
  }
 ],
 "metadata": {
  "kernelspec": {
   "display_name": "Python 3",
   "language": "python",
   "name": "python3"
  },
  "language_info": {
   "codemirror_mode": {
    "name": "ipython",
    "version": 3
   },
   "file_extension": ".py",
   "mimetype": "text/x-python",
   "name": "python",
   "nbconvert_exporter": "python",
   "pygments_lexer": "ipython3",
   "version": "3.7.4"
  }
 },
 "nbformat": 4,
 "nbformat_minor": 2
}
