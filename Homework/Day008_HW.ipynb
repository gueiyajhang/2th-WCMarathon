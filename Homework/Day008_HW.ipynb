{
 "cells": [
  {
   "cell_type": "markdown",
   "metadata": {},
   "source": [
    "# 靜態網頁的資料爬蟲策略\n",
    "\n",
    "\n",
    "* 了解靜態網頁的資料爬蟲策略\n",
    "* 認識適用於靜態網頁爬蟲的相關套件工具：Request\n",
    "* 認識適用於靜態網頁爬蟲的相關套件工具：BeatifulSoup"
   ]
  },
  {
   "cell_type": "markdown",
   "metadata": {},
   "source": [
    "## 作業目標\n",
    "\n",
    "利用 Request + BeatifulSoup 爬取下列兩個網站內容並解析：\n",
    "\n",
    "1. Dcared 網址： https://www.dcard.tw/f\n",
    "2. 知乎： https://www.zhihu.com/explore\n",
    "\n",
    "並且回答下面問題：\n",
    "\n",
    "1. Request 取回之後該怎麼取出資料，資料型態是什麼？\n",
    "2. 為什麼要使用 BeatifulSoup 處理？處理後的型態是什麼？\n",
    "3. 觀察一下知乎回來的資料好像有點怪怪的，該怎麼解決？"
   ]
  },
  {
   "cell_type": "markdown",
   "metadata": {},
   "source": [
    "### 1. Dcard 網址： https://www.dcard.tw/f"
   ]
  },
  {
   "cell_type": "code",
   "execution_count": 2,
   "metadata": {},
   "outputs": [],
   "source": [
    "import requests\n",
    "from bs4 import BeautifulSoup"
   ]
  },
  {
   "cell_type": "code",
   "execution_count": 24,
   "metadata": {},
   "outputs": [
    {
     "name": "stdout",
     "output_type": "stream",
     "text": [
      "<!DOCTYPE html><html lang=\"zh-TW\"><head prefix=\"og: http://ogp.me/ns#\" itemscope=\"\" itemType=\"https://schema.org/WebSite\"><meta charSet=\"utf-8\"/><meta http-equiv=\"X-UA-Compatible\" content=\"IE=edge\"/><meta name=\"viewport\" content=\"width=device-width, initial-scale=1, minimum-scale=1\"/><meta name=\"apple-mobile-web-app-status-bar-style\" content=\"default\"/><link rel=\"stylesheet\" type=\"text/css\" href=\"https://fonts.googleapis.com/css?family=Roboto:400,300\"/><meta name=\"application-name\" content=\"Dcard\"/><meta name=\"apple-itunes-app\" content=\"app-id=951353454\"/><meta name=\"theme-color\" content=\"#006aa6\"/><meta name=\"mobile-web-app-capable\" content=\"yes\"/><meta name=\"apple-mobile-web-app-capable\" content=\"yes\"/><meta name=\"supported-color-schemes\" content=\"light\"/><meta property=\"fb:app_id\" content=\"211628828926493\"/><meta property=\"fb:pages\" content=\"178875832200695,577748865730563,1333515469994506,619122564952487,804004803032067,178024805867764\"/><meta property=\"al:ios:app_store_id\" content=\"951353454\"/><meta property=\"al:ios:app_name\" content=\"Dcard\"/><meta property=\"al:android:package\" content=\"com.sparkslab.dcardreader\"/><meta property=\"al:android:app_name\" content=\"Dcard\"/><link rel=\"manifest\" href=\"/_next/static/manifest.json\"/><link rel=\"icon\" type=\"image/png\" sizes=\"16x16\" href=\"/_next/static/images/icon-16-1daa7474e5fe761a7239d12c56b88680.png\"/><link rel=\"icon\" type=\"image/png\" sizes=\"24x24\" href=\"/_next/static/images/icon-24-7bfd8a52a6756e15edaa617b106a5c55.png\"/><link rel=\"icon\" type=\"image/png\" sizes=\"32x32\" href=\"/_next/static/images/icon-32-54392e6e864b1f822d54a543ee54a0f9.png\"/><link rel=\"icon\" type=\"image/png\" sizes=\"192x192\" href=\"/_next/static/images/icon-192-49149beb434e1f6bccac918f6608564c.png\"/><link rel=\"apple-touch-icon\" type=\"image/png\" sizes=\"57x57\" href=\"/_next/static/images/icon-57-c95fcd930b41dbc6de0495348939582f.png\"/><link rel=\"apple-touch-icon\" type=\"image/png\" sizes=\"72x72\" href=\"/_next/static/images/icon-72-69b64cb9aadc811dce34ea6ac772cd8f.png\"/><link rel=\"apple-touch-icon\" type=\"image/png\" sizes=\"76x76\" href=\"/_next/static/images/icon-76-67203a784694f8378d2f51f24970e2f7.png\"/><link rel=\"apple-touch-icon\" type=\"image/png\" sizes=\"114x114\" href=\"/_next/static/images/icon-114-c58f911deb58868e8cc68ea1e09cc688.png\"/><link rel=\"apple-touch-icon\" type=\"image/png\" sizes=\"120x120\" href=\"/_next/static/images/icon-120-f3ada61716c0cc460c2cbe72b18fb9b4.png\"/><link rel=\"apple-touch-icon\" type=\"image/png\" sizes=\"144x144\" href=\"/_next/static/images/icon-144-679d873aa4b58f1117915545d3fdfa1d.png\"/><link rel=\"apple-touch-icon\" type=\"image/png\" sizes=\"152x152\" href=\"/_next/static/images/icon-152-b7ec982f1f49f590c97611e0e5e9f7f3.png\"/><link rel=\"apple-touch-icon\" type=\"image/png\" sizes=\"180x180\" href=\"/_next/static/images/icon-180-2665760e1b88b5af7a3cfbdc532bae20.png\"/><link rel=\"shortcut icon\" type=\"image/png\" href=\"/_next/static/images/icon-32-54392e6e864b1f822d54a543ee54a0f9.png\"/><script>(function(w,d,s,l,i){w[l]=w[l]||[];w[l].push({'gtm.start':\n",
      "      new Date().getTime(),event:'gtm.js'});var f=d.getElementsByTagName(s)[0],\n",
      "      j=d.createElement(s),dl=l!='dataLayer'?'&l='+l:'';j.async=true;j.src=\n",
      "      'https://www.googletagmanager.com/gtm.js?id='+i+dl;f.parentNode.insertBefore(j,f);\n",
      "      })(window,document,'script','dataLayer','GTM-TWLTW4M');</script><meta name=\"viewport\" content=\"width=device-width,minimum-scale=1,initial-scale=1\"/><meta charSet=\"utf-8\"/><meta name=\"description\" content=\"廣受年輕人喜愛的 Dcard 是台灣最大的匿名交流平台，舉凡時事話題、感情心情、吃喝玩樂、學習工作等，都有卡友陪你聊！\"/><meta property=\"og:description\" content=\"廣受年輕人喜愛的 Dcard 是台灣最大的匿名交流平台，舉凡時事話題、感情心情、吃喝玩樂、學習工作等，都有卡友陪你聊！\"/><meta property=\"og:type\" content=\"website\"/><meta property=\"twitter:description\" content=\"廣受年輕人喜愛的 Dcard 是台灣最大的匿名交流平台，舉凡時事話題、感情心情、吃喝玩樂、學習工作等，都有卡友陪你聊！\"/><meta name=\"image\" itemProp=\"image\" content=\"https://www.dcard.tw/images/landing.png\"/><meta property=\"og:image\" content=\"https://www.dcard.tw/images/landing.png\"/><meta property=\"og:image:secure_url\" content=\"https:/\n"
     ]
    }
   ],
   "source": [
    "url = 'https://www.dcard.tw/f'\n",
    "\n",
    "r = requests.get(url)\n",
    "# 想要爬資料的目標網址\n",
    "soup = BeautifulSoup(r.text) \n",
    "r.encoding = 'utf-8'\n",
    "print(r.text[0:4000])"
   ]
  },
  {
   "cell_type": "code",
   "execution_count": 36,
   "metadata": {},
   "outputs": [
    {
     "name": "stdout",
     "output_type": "stream",
     "text": [
      "Request 取回之後該怎麼取出資料，資料型態是什麼？ => string\n",
      "iv></div></div><div class=\"sc-1v1d5rx-8 eNmiGi\"><span class=\"sc-1v1d5rx-9 jpuLiM\">回應</span><span>334</span></div><div class=\"sc-1v1d5rx-8 eNmiGi\"><span size=\"20\" class=\"sc-1rm1ozc-0 drkUgx sc-1v1d5rx-10 kHTcQX\" role=\"img\"><svg viewBox=\"0 0 24 24\"><path d=\"M17.65 21.39L12 17.5l-5.65 3.88A1.5 1.5 0 014 20.15V5a2.5 2.5 0 012.5-2.5h11A2.5 2.5 0 0120 5v15.15a1.5 1.5 0 01-2.35 1.24z\"/></svg></span><span>收藏</span></div></div></article></div><div data-index=\"17\"></div><div data-index=\"18\"><article class=\"sc-1v1d5rx-0 gtLiXJ\" role=\"article\" data-post-list-viewed-cell-no=\"19\" data-list-engagement-hot-all=\"19\"><div class=\"sc-1v1d5rx-2 kIBWiD\"><div class=\"sc-6oxm01-0 kPXEDG\"><div class=\"sc-6oxm01-3 jmspYp\"><div size=\"20\" role=\"img\" aria-label=\"ceiiice\" class=\"sc-1heqsqc-1 irzYfI\">C</div></div><div class=\"sc-6oxm01-1 cZEsrV\"><span class=\"sc-6oxm01-2 kkIdia\">美食</span><span class=\"sc-6oxm01-2 kkIdia\">Lll</span><span class=\"sc-6oxm01-2 kkIdia\">4月3日 23:10</span></div><div class=\"sc-6oxm01-7 kyPfUt\"></div></div></div><div class=\"sc-1v1d5rx-1 brApwE\"><h2 class=\"sc-1v1d5rx-3 hQqKVz\"><a class=\"sc-1v1d5rx-4 cJzlcl\" href=\"/f/food/p/233401601\"><span>我的食物是出車禍嗎</span></a></h2><div class=\"sc-1v1d5rx-5 kPePTy\"><span>更））），這是目前的進度，一開始原本不打算處理，但底下的留言給我滿滿的勇氣，我其實沒跟客服有什麼對話，到app那邊按食物打翻後，他們mail給我 我回覆他們披薩遺照，就收到這個了～～————————，</span></div></div><div class=\"sc-1v1d5rx-7 ghkmQW\"><div class=\"sc-1v1d5rx-8 eNmiGi\"><div class=\"sc-1kuvyve-0 HPJWH\"><div opacity=\"0.75\" class=\"sc-1kuvyve-1 ifcbUA\"><span size=\"20\" class=\"sc-1rm1ozc-0 drkUgx sc-1kuvyve-2 cdwOPp\"><img src=\"/_next/static/images/heartGray-24-1ff8eda3261bd083777921953c7f3037.png\" srcSet=\"/_next/static/images/heartGray-24-1ff8eda3261bd083777921953c7f3037.png 24w,/_next/static/images/heartGray-48-657c483b60cd8b88d3b25daf374d1b4a.png 48w\" alt=\"愛心\"/></span></div><div class=\"sc-1kuvyve-3 ejolKO\">3160</div></div></div><div class=\"sc-1v1d5rx-8 eNmiGi\"><span class=\"sc-1v1d5rx-9 jpuLiM\">回應</span><span>100</span></div><div class=\"sc-1v1d5rx-8 eNmiGi\"><span size=\"20\" class=\"sc-1rm1ozc-0 drkUgx sc-1v1d5rx-10 kHTcQX\" role=\"img\"><svg viewBox=\"0 0 24 24\"><path d=\"M17.65 21.39L12 17.5l-5.65 3.88A1.5 1.5 0 014 20.15V5a2.5 2.5 0 012.5-2.5h11A2.5 2.5 0 0120 5v15.15a1.5 1.5 0 01-2.35 1.24z\"/></svg></span><span>收藏</span></div></div><img class=\"t5f2fb-0 kSmyau sc-1v1d5rx-12 hNEazt\" src=\"https://megapx-assets.dcard.tw/images/1e23cf8d-f42c-45a3-82c3-9936c1eab4a7/160.jpeg\" width=\"84px\" height=\"84px\" alt=\"\" loading=\"lazy\"/></article></div><div data-index=\"19\"><article class=\"sc-1v1d5rx-0 gtLiXJ\" role=\"article\" data-post-list-viewed-cell-no=\"20\" data-list-engagement-hot-all=\"20\"><div class=\"sc-1v1d5rx-2 kIBWiD\"><div class=\"sc-6oxm01-0 kPXEDG\"><div class=\"sc-6oxm01-3 jmspYp\"><div size=\"20\" role=\"img\" aria-label=\"prince.\" class=\"sc-1heqsqc-1 irzYfI\">P</div></div><div class=\"sc-6oxm01-1 cZEsrV\"><span class=\"sc-6oxm01-2 kkIdia\">有趣</span><span class=\"sc-6oxm01-2 kkIdia\">雷宴</span><span class=\"sc-6oxm01-2 kkIdia\">4月4日 12:10</span></div><div class=\"sc-6oxm01-7 kyPfUt\"></div></div></div><div class=\"sc-1v1d5rx-1 brApwE\"><h2 class=\"sc-1v1d5rx-3 hQqKVz\"><a class=\"sc-1v1d5rx-4 cJzlcl\" href=\"/f/funny/p/233404219\"><span>不要隨便按開關</span></a></h2><div class=\"sc-1v1d5rx-5 kPePTy\"><span>補習班搬家前，我的座位附近有顆神奇的開關，外型就是普通電燈開關。然而無論如何按他，都不會有任何燈因此亮起或熄滅。為此我還特別問過一個年資很久的外師主管，那東西到底裝來幹嘛的，對方則回我他覺得可能是當初</span></div></div><div class=\"sc-1v1d5rx-7 ghkmQW\"><div class=\"sc-1v1d5rx-8 eNmiGi\"><div class=\"sc-1kuvyve-0 HPJWH\"><div opacity=\"0.75\" class=\"sc-1kuvyve-1 ifcbUA\"><span size=\"20\" class=\"sc-1rm1ozc-0 drkUgx sc-1kuvyve-2 cdwOPp\"><img src=\"/_next/static/images/heartGray-24-1ff8eda3261bd083777921953c7f3037.png\" srcSet=\"/_next/static/images/heartGray-24-1ff8eda3261bd083777921953c7f3037.png 24w,/_next/static/images/heartGray-48-657c483b60cd8b88d3b25daf374d1b4a.png 48w\" alt=\"愛心\"/></span></div><div class=\"sc-1kuvyve-3 ejolKO\">2993</div></div></div><div class=\"sc-1v1d5rx-8 eNmiGi\"><span class=\"sc-1v1d5rx-9 jpuLiM\">回應</span><span>51</span></div><div class=\"sc-1v1d5rx-8 eNmiGi\"><span size=\"20\" class=\"sc-1rm1ozc-0 drkUgx sc-1v1d5rx-10 kHTcQX\" role=\"img\"><svg viewBox=\"0 0 24 24\"><path d=\"M17.65 21.39L12 17.5l-5.65 3.88A1.5 1.5 0 014 20.15V5a2.5 2.5 0 012.5-2.5h11A2.5 2.5 0 0120 5v15.15a1.5 1.5 0 01-2.35 1.24z\"/></svg></span><span>收藏</span></div></div><img class=\"t5f2fb-0 kSmyau sc-1v1d5rx-12 hNEazt\" src=\"https://imgur.dcard.tw/7Aa2Qrk.jpg\" width=\"84px\" height=\"84px\" alt=\"\" loading=\"lazy\"/></article></div><div data-index=\"20\"><article class=\"sc-1v1d5rx-0 gtLiXJ\" role=\"article\" data-post-list-viewed-cell-no=\"21\" data-list-engagement-hot-all=\"21\"><div class=\"sc-1v1d5rx-2 kIBWiD\"><div class=\"sc-6oxm01-0 kPXEDG\"><div class=\"sc-6oxm01-3 jmspYp\"><span size=\"20\" class=\"sc-1rm1ozc-0 drkUgx sc-1heqsqc-0 jtdKe\" aria-label=\"女\" role=\"img\"><svg viewBox=\"0 0 40 40\"><path fill=\"#F48FB1\" d=\"M40 20a20 20 0 11-40 0 20 20 0 0140 0\"/><path fill=\"#CB3A6B\" d=\"M28.7 17.5a9.6 9.6 0 00-1.4-4.4l.9-.6S25.5 6 17.9 7.3c-5.5 1-7.7 5.4-7.4 9C10.8 19.8 8.3 31 8.3 31l6.7 1.7a4.6 4.6 0 00-.7 1.1v.1a4.2 4.2 0 00-.4.8l-1.3 3.8a20 20 0 0010.6 1.1L23 37c.4-2-.4-4-2-5 0-1.1 0-3 .5-3.1 3-.6 5.1-2.5 6.2-5.3.3.2.6.2 1 .2a1.5 1.5 0 00-.2-3c.1-1 .2-2.2 0-3.3z\"/></svg></span></div><div class=\"sc-6oxm01-1 cZEsrV\"><span class=\"sc-6oxm01-2 kkIdia\">武漢肺炎</span><span class=\"sc-6oxm01-2 kkIdia\">國立臺灣大學</span><span class=\"sc-6oxm01-2 kkIdia\">4月3日 16:20</span></div><div class=\"sc-6oxm01-7 kyPfUt\"></div></div></div><div class=\"sc-1v1d5rx-1 brApwE\"><h2 class=\"sc-1v1d5rx-3 hQqKVz\"><a class=\"sc-1v1d5rx-4 cJzlcl\" href=\"/f/2019_ncov/p/233399334\"><span>中國大姐在美狂掃口罩！爽拍片轉賣喊「不給美國人留」</span></a></h2><div class=\"sc-1v1d5rx-5 kPePTy\"><span>中國大媽姐在美國超市狂掃口罩還開直播。（圖／翻攝自推特），美國新冠肺炎確診人數突破18萬人，疫情越來越嚴重，各州的防疫物資也逐漸匱乏，最重要的口罩不僅一般民眾買不到，連第一線的醫護人員資源也相當吃緊，</span></div></div><div class=\"sc-1v1d5rx-7 ghkmQW\"><div class=\"sc-1v1d5rx-8 eNmiGi\"><div class=\"sc-1kuvyve-0 HPJWH\"><div opacity=\"0.75\" class=\"sc-1kuvyve-1 ifcbUA\"><span size=\"20\" class=\"sc-1rm1ozc-0 drkUgx sc-1kuvyve-2 cdwOPp\"><img src=\"/_next/static/images/heartGray-24-1ff8eda3261bd083777921953c7f3037.png\" srcSet=\"/_next/static/images/heartGray-24-1ff8eda3261bd083777921953c7f3037.png 24w,/_next/static/images/heartGray-48-657c483b60cd8b88d3b25daf374d1b4a.png 48w\" alt=\"愛心\"/></span></div><div class=\"sc-1kuvyve-3 ejolKO\">2963</div></div></div><div class=\"sc-1v1d5rx-8 eNmiGi\"><span class=\"sc-1v1d5rx-9 jpuLiM\">回應</span><span>98</span></div><div class=\"sc-1v1d5rx-8 eNmiGi\"><span size=\"20\" class=\"sc-1rm1ozc-0 drkUgx sc-1v1d5rx-10 kHTcQX\" role=\"img\"><svg viewBox=\"0 0 24 24\"><path d=\"M17.65 21.39L12 17.5l-5.65 3.88A1.5 1.5 0 014 20.15V5a2.5 2.5 0 012.5-2.5h11A2.5 2.5 0 0120 5v15.15a1.5 1.5 0 01-2.35 1.24z\"/></svg></span><span>收藏</span></div></div><img class=\"t5f2fb-0 kSmyau sc-1v1d5rx-12 hNEazt\" src=\"https://megapx-assets.dcard.tw/images/d61cfaa1-4d9c-4e20-9df4-3cf04cde4cdd/160.jpeg\" width=\"84px\" height=\"84px\" alt=\"\" loading=\"lazy\"/></article></div><div data-index=\"21\"><article class=\"sc-1v1d5rx-0 gtLiXJ\" role=\"article\" data-post-list-viewed-cell-no=\"22\" data-list-engagement-hot-all=\"22\"><div class=\"sc-1v1d5rx-2 kIBWiD\"><div class=\"sc-6oxm01-0 kPXEDG\"><div class=\"sc-6oxm01-3 jmspYp\"><div size=\"20\" role=\"img\" aria-label=\"fina60935\" class=\"sc-1heqsqc-1 irzYfI\">F</div></div><div class=\"sc-6oxm01-1 cZEsrV\"><span class=\"sc-6oxm01-2 kkIdia\">有趣</span><span class=\"sc-6oxm01-2 kkIdia\">妮妮喂讀冊館</span><span class=\"sc-6oxm01-2 kkIdia\">4月3日 14:16</span></div><div class=\"sc-6oxm01-7 kyPfUt\"></div></div></div><div class=\"sc-1v1d5rx-1 brApwE\"><h2 class=\"sc-1v1d5rx-3 hQqKVz\"><a class=\"sc-1v1d5rx-4 cJzlcl\" href=\"/f/funny/p/233398744\"><span>內政部粉專小編嗑了什麼，都給我來一點</span></a></h2><div class=\"sc-1v1d5rx-5 kPePTy\"><span>剛滑到內政部臉書上防疫貼文，笑到噴飯，然後我再繼續往下滑....，這個介紹內政部的影片也是很優秀，小編到底嗑了什麼XDDDD 太純了吧！，最近內政部的粉專很有趣，大家可以『待在家』滑一滑笑一笑</span></div></div><div class=\"sc-1v1d5rx-7 ghkmQW\"><div class=\"sc-1v1d5rx-8 eNmiGi\"><div class=\"sc-1kuvyve-0 HPJWH\"><div opacity=\"0.75\" class=\"sc-1kuvyve-1 ifcbUA\"><span size=\"20\" class=\"sc-1rm1ozc-0 drkUgx sc-1kuvyve-2 cdwOPp\"><img src=\"/_next/static/images/heartGray-24-1ff8eda3261bd083777921953c7f3037.png\" srcSet=\"/_next/static/images/heartGray-24-1ff8eda3261bd083777921953c7f3037.png 24w,/_next/static/images/heartGray-48-657c483b60cd8b88d3b25daf374d1b4a.png 48w\" alt=\"愛心\"/></span></div><div class=\"sc-1kuvyve-3 ejolKO\">2913</div></div></div><div class=\"sc-1v1d5rx-8 eNmiGi\"><span class=\"sc-1v1d5rx-9 jpuLiM\">回應</span><span>49</span></div><div class=\"sc-1v1d5rx-8 eNmiGi\"><span size=\"20\" class=\"sc-1rm1ozc-0 drkUgx sc-1v1d5rx-10 kHTcQX\" role=\"img\"><svg viewBox=\"0 0 24 24\"><path d=\"M17.65 21.39L12 17.5l-5.65 3.88A1.5 1.5 0 014 20.15V5a2.5 2.5 0 012.5-2.5h11A2.5 2.5 0 0120 5v15.15a1.5 1.5 0 01-2.35 1.24z\"/></svg></span><span>收藏</span></div></div><img class=\"t5f2fb-0 kSmyau sc-1v1d5rx-12 hNEazt\" src=\"https://imgur.dcard.tw/Fn9v7vQ.jpg\" width=\"84px\" height=\"84px\" alt=\"\" loading=\"lazy\"/></article></div><div data-index=\"22\"><article class=\"sc-1v1d5rx-0 gtLiXJ\" role=\"article\" data-post-list-viewed-cell-no=\"23\" data-list-engagement-hot-all=\"23\"><div class=\"sc-1v1d5rx-2 kIBWiD\"><div class=\"sc-6oxm01-0 kPXEDG\"><div class=\"sc-6oxm01-3 jmspYp\"><span size=\"20\" class=\"sc-1rm1ozc-0 drkUgx sc-1heqsqc-0 jtdKe\" aria-label=\"女\" role=\"img\"><svg viewBox=\"0 0 40 40\"><path fill=\"#F48FB1\" d=\"M40 20a20 20 0 11-40 0 20 20 0 0140 0\"/><path fill=\"#CB3A6B\" d=\"M28.7 17.5a9.6 9.6 0 00-1.4-4.4l.9-.6S25.5 6 17.9 7.3c-5.5 1-7.7 5.4-7.4 9C10.8 19.8 8.3 31 8.3 31l6.7 1.7a4.6 4.6 0 00-.7 1.1v.1a4.2 4.2 0 00-.4.8l-1.3 3.8a20 20 0 0010.6 1.1L23 37c.4-2-.4-4-2-5 0-1.1 0-3 .5-3.1 3-.6 5.1-2.5 6.2-5.3.3.2.6.2 1 .2a1.5 1.5 0 00-.2-3c.1-1 .2-2.2 0-3.3z\"/></svg></span></div><div class=\"sc-6oxm01-1 cZEsrV\"><span class=\"sc-6oxm01-2 kkIdia\">結婚</span><span class=\"sc-6oxm01-2 kkIdia\">實踐大學</span><span class=\"sc-6oxm01-2 kkIdia\">4月3日 15:55</span></div><div class=\"sc-6oxm01-7 kyPfUt\"></div></div></div><div class=\"sc-1v1d5rx-1 brApwE\"><h2 class=\"sc-1v1d5rx-3 hQqKVz\"><a class=\"sc-1v1d5rx-4 cJzlcl\" href=\"/f/marriage/p/233399215\"><span>婚後才知道她有這種病（4/4 20:53新增回覆）</span></a></h2><div class=\"sc-1v1d5rx\n",
      "資料型態是:\n",
      "<class 'str'>\n"
     ]
    }
   ],
   "source": [
    "print('Request 取回之後該怎麼取出資料，資料型態是什麼？ => string')\n",
    "\n",
    "r = requests.get(url)\n",
    "r.encoding = 'utf-8'\n",
    "print(r.text[150000:160000])\n",
    "print('資料型態是:')\n",
    "print(type(r.text))"
   ]
  },
  {
   "cell_type": "code",
   "execution_count": 37,
   "metadata": {},
   "outputs": [
    {
     "name": "stdout",
     "output_type": "stream",
     "text": [
      "為什麼要使用 BeatifulSoup 處理？處理後的型態是什麼？ => 方便解析資料，資料抓取容易。bs4.BeautifulSoup\n",
      "[<span class=\"sc-6oxm01-2 kkIdia\">武漢肺炎</span>, <span class=\"sc-6oxm01-2 kkIdia\">國立臺中科技大學</span>, <span class=\"sc-6oxm01-2 kkIdia\">4月3日 14:32</span>, <span class=\"sc-6oxm01-2 kkIdia\">有趣</span>, <span class=\"sc-6oxm01-2 kkIdia\">國立屏東大學</span>, <span class=\"sc-6oxm01-2 kkIdia\">4月4日 00:39</span>, <span class=\"sc-6oxm01-2 kkIdia\">感情</span>, <span class=\"sc-6oxm01-2 kkIdia\">匿名</span>, <span class=\"sc-6oxm01-2 kkIdia\">4月3日 21:47</span>, <span class=\"sc-6oxm01-2 kkIdia\">YouTuber</span>, <span class=\"sc-6oxm01-2 kkIdia\">樹德科技大學</span>, <span class=\"sc-6oxm01-2 kkIdia\">4月4日 00:03</span>, <span class=\"sc-6oxm01-2 kkIdia\">穿搭</span>, <span class=\"sc-6oxm01-2 kkIdia\">Eric</span>, <span class=\"sc-6oxm01-2 kkIdia\">4月3日 17:33</span>, <span class=\"sc-6oxm01-2 kkIdia\">YouTuber</span>, <span class=\"sc-6oxm01-2 kkIdia\">國立政治大學</span>, <span class=\"sc-6oxm01-2 kkIdia\">4月3日 23:04</span>, <span class=\"sc-6oxm01-2 kkIdia\">時事</span>, <span class=\"sc-6oxm01-2 kkIdia\">千葉大學</span>]\n",
      "<class 'bs4.BeautifulSoup'>\n"
     ]
    }
   ],
   "source": [
    "print('為什麼要使用 BeatifulSoup 處理？處理後的型態是什麼？ => 方便解析資料，資料抓取容易。bs4.BeautifulSoup')\n",
    "\n",
    "soup = BeautifulSoup(r.text)\n",
    "\n",
    "# 取出所有class = 'ForumEntry_link_3tNC45 ForumEntry_unRead_1ptlOL'標籤\n",
    "print(soup.find_all('span', class_ = 'sc-6oxm01-2 kkIdia')[0:20])\n",
    "print(type(soup))"
   ]
  },
  {
   "cell_type": "markdown",
   "metadata": {},
   "source": [
    "### 2. 知乎： https://www.zhihu.com/explore"
   ]
  },
  {
   "cell_type": "code",
   "execution_count": 38,
   "metadata": {},
   "outputs": [
    {
     "name": "stdout",
     "output_type": "stream",
     "text": [
      "<html>\r\n",
      "<head><title>400 Bad Request</title></head>\r\n",
      "<body bgcolor=\"white\">\r\n",
      "<center><h1>400 Bad Request</h1></center>\r\n",
      "<hr><center>openresty</center>\r\n",
      "</body>\r\n",
      "</html>\r\n",
      "\n"
     ]
    }
   ],
   "source": [
    "url = 'https://www.zhihu.com/explore'\n",
    "r = requests.get(url)\n",
    "r.encoding = 'utf-8'\n",
    "\n",
    "print(r.text[0:600])"
   ]
  },
  {
   "cell_type": "markdown",
   "metadata": {},
   "source": [
    "### 3. 觀察一下知乎回來的資料好像有點怪怪的，該怎麼解決？"
   ]
  },
  {
   "cell_type": "code",
   "execution_count": 41,
   "metadata": {},
   "outputs": [
    {
     "name": "stdout",
     "output_type": "stream",
     "text": [
      "<!doctype html>\n",
      "<html lang=\"zh\" data-hairline=\"true\" data-theme=\"light\"><head><meta charSet=\"utf-8\"/><title data-react-helmet=\"true\">发现 - 知乎</title><meta name=\"viewport\" content=\"width=device-width,initial-scale=1,maximum-scale=1\"/><meta name=\"renderer\" content=\"webkit\"/><meta name=\"force-rendering\" content=\"webkit\"/><meta http-equiv=\"X-UA-Compatible\" content=\"IE=edge,chrome=1\"/><meta name=\"google-site-verification\" content=\"FTeR0c8arOPKh8c5DYh_9uu98_zJbaWw53J-Sch9MTg\"/><meta name=\"description\" property=\"og:description\" content=\"有问题，上知乎。知乎，可信赖的问答社区，以让每个人高效获得可信赖的解答为使命。知乎凭借认真、专业和友善的社区氛围，结构化、易获得的\n"
     ]
    }
   ],
   "source": [
    "import requests\n",
    "url = 'https://www.zhihu.com/explore'\n",
    "# 加上擋頭\n",
    "headers = {'user-agent': ''}\n",
    "r = requests.get(url, headers = headers)\n",
    "\n",
    "r.encoding = 'utf-8'\n",
    "print(r.text[0:600])\n",
    "r = requests.get(url)"
   ]
  },
  {
   "cell_type": "code",
   "execution_count": null,
   "metadata": {},
   "outputs": [],
   "source": []
  }
 ],
 "metadata": {
  "kernelspec": {
   "display_name": "Python 3",
   "language": "python",
   "name": "python3"
  },
  "language_info": {
   "codemirror_mode": {
    "name": "ipython",
    "version": 3
   },
   "file_extension": ".py",
   "mimetype": "text/x-python",
   "name": "python",
   "nbconvert_exporter": "python",
   "pygments_lexer": "ipython3",
   "version": "3.7.4"
  }
 },
 "nbformat": 4,
 "nbformat_minor": 2
}
