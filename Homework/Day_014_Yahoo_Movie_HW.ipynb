{
 "cells": [
  {
   "cell_type": "markdown",
   "metadata": {},
   "source": [
    "# YAHOO電影爬蟲練習\n",
    "## 練習爬取電影放映資訊。必須逐步獲取電影的代號、放映地區、放映日期後，再送出查詢給伺服器。"
   ]
  },
  {
   "cell_type": "code",
   "execution_count": 32,
   "metadata": {},
   "outputs": [],
   "source": [
    "import requests\n",
    "import re\n",
    "from bs4 import BeautifulSoup"
   ]
  },
  {
   "cell_type": "markdown",
   "metadata": {},
   "source": [
    "### 先搜尋全部的電影代號(ID)資訊"
   ]
  },
  {
   "cell_type": "code",
   "execution_count": 33,
   "metadata": {},
   "outputs": [
    {
     "name": "stdout",
     "output_type": "stream",
     "text": [
      "Movie: 我不流行二十年, ID: 10614\n",
      "Movie: 下女的誘惑, ID: 10610\n",
      "Movie: 樂來越愛你, ID: 10609\n",
      "Movie: 謝謝你, ID: 10571\n",
      "Movie: 搞鬼, ID: 10570\n",
      "Movie: 政客誠實中, ID: 10563\n",
      "Movie: 女聲我最美, ID: 10528\n",
      "Movie: 真實, ID: 10523\n",
      "Movie: 特別嘉賓, ID: 10497\n",
      "Movie: 來自深淵 深沉靈魂的黎明, ID: 10483\n",
      "Movie: 霸王別姬, ID: 10594\n",
      "Movie: 阿飛正傳, ID: 10593\n",
      "Movie: 在黑暗中漫舞：20週年數位修復版, ID: 10590\n",
      "Movie: 拾光人生, ID: 10581\n",
      "Movie: 羊男的迷宮, ID: 10580\n",
      "Movie: 冤鴦大盜, ID: 10573\n",
      "Movie: 馬丁伊登, ID: 10569\n",
      "Movie: 火口的二人, ID: 10555\n",
      "Movie: 犬鳴村, ID: 10543\n",
      "Movie: 間諜速成班, ID: 10538\n",
      "Movie: 我的英雄學院劇場版：英雄新世紀, ID: 10481\n",
      "Movie: 魔髮精靈唱遊世界, ID: 10466\n",
      "Movie: 小魔花, ID: 10068\n",
      "Movie: 我的學生都是配樂大師, ID: 10557\n",
      "Movie: 絕命直播, ID: 10548\n",
      "Movie: 託陰2：布拉姆回來了, ID: 10540\n",
      "Movie: 迷雁返家路, ID: 10533\n",
      "Movie: 無聲救援, ID: 10521\n",
      "Movie: 鏡中驚魂, ID: 10514\n",
      "Movie: 最初的晚餐, ID: 10510\n",
      "Movie: 抓住救命稻草的野獸們, ID: 10507\n",
      "Movie: 第六感生死戀, ID: 10504\n",
      "Movie: Re從零開始的異世界生活 外傳集, ID: 10480\n",
      "Movie: 記憶屋, ID: 10470\n",
      "Movie: 不愛鋼琴師, ID: 10542\n",
      "Movie: 神之一手：鬼手篇, ID: 10520\n",
      "Movie: 搖滾師匠：細野晴臣, ID: 10502\n",
      "Movie: 我出去醫下, ID: 10494\n",
      "Movie: 依然相信, ID: 10487\n",
      "Movie: 刺激1995, ID: 10518\n",
      "Movie: 通靈少年2020, ID: 10517\n",
      "Movie: 劇場版 不起眼女主角培育法 Fine, ID: 10486\n",
      "Movie: 練愛iNG, ID: 10442\n",
      "Movie: 鋼鐵勳章, ID: 10432\n",
      "Movie: 血衛, ID: 10469\n",
      "Movie: 導演先生的完美假期, ID: 10545\n",
      "Movie: 大畫特務, ID: 10478\n",
      "Movie: 明明會說話, ID: 10440\n",
      "Movie: 鳴鳥不飛：烏雲密布, ID: 10458\n",
      "Movie: 女鬼橋, ID: 10437\n",
      "Movie: 極地守護犬, ID: 10383\n",
      "Movie: 隱形人, ID: 10359\n",
      "Movie: 愛情人形, ID: 10394\n",
      "Movie: 1917, ID: 10189\n",
      "Movie: 肥龍過江, ID: 10449\n",
      "Movie: 岳父受死吧, ID: 10446\n",
      "Movie: 你的情歌, ID: 10407\n",
      "Movie: 杜立德, ID: 10316\n",
      "Movie: 深海終劫站, ID: 10230\n",
      "Movie: 變身特務, ID: 9008\n",
      "Movie: 巧虎電影：英雄遊樂園, ID: 10429\n",
      "Movie: 不完美的正義, ID: 10243\n",
      "Movie: 絕地戰警FOR LIFE, ID: 10242\n",
      "Movie: 真愛裁會贏, ID: 10362\n",
      "Movie: 兔嘲男孩, ID: 10283\n",
      "Movie: 葉問4：完結篇, ID: 9890\n",
      "Movie: 去年聖誕節, ID: 10256\n",
      "Movie: 野蠻遊戲：全面晉級, ID: 10134\n",
      "Movie: 賽道狂人, ID: 10097\n",
      "Movie: 冰雪奇緣2, ID: 9597\n",
      "Movie: 萬萬沒想到, ID: 10281\n",
      "Movie: 噤界, ID: 7509\n",
      "Movie: 完美陌生人, ID: 6531\n",
      "Movie: 一首搖滾上月球, ID: 4887\n",
      "Movie: 錢不夠用2, ID: 3026\n"
     ]
    }
   ],
   "source": [
    "# 查看目前上映那些電影，並擷取出其ID資訊\n",
    "url = 'https://movies.yahoo.com.tw/'\n",
    "resp = requests.get(url)\n",
    "resp.encoding = 'utf-8'\n",
    "\n",
    "soup = BeautifulSoup(resp.text, 'lxml')\n",
    "html = soup.find(\"select\", attrs={'name':'movie_id'})\n",
    "movie_item = html.find_all(\"option\", attrs={'data-name':re.compile('.*')})\n",
    "\n",
    "for p in movie_item:\n",
    "    print(\"Movie: %s, ID: %s\" % (p[\"data-name\"], p[\"value\"]))"
   ]
  },
  {
   "cell_type": "markdown",
   "metadata": {},
   "source": [
    "### 指定你有興趣的電影其ID，然後查詢其放映地區資訊。"
   ]
  },
  {
   "cell_type": "code",
   "execution_count": 34,
   "metadata": {},
   "outputs": [],
   "source": [
    "# 參考前一個步驟中擷取到的ID資訊，並指定ID\n",
    "movie_id = 10437"
   ]
  },
  {
   "cell_type": "code",
   "execution_count": 35,
   "metadata": {},
   "outputs": [
    {
     "name": "stdout",
     "output_type": "stream",
     "text": [
      "放映地區: 台北市, 代號(area_id): 28\n",
      "放映地區: 新北市, 代號(area_id): 8\n",
      "放映地區: 桃園, 代號(area_id): 16\n",
      "放映地區: 新竹, 代號(area_id): 20\n",
      "放映地區: 苗栗, 代號(area_id): 15\n",
      "放映地區: 台中, 代號(area_id): 2\n",
      "放映地區: 台南, 代號(area_id): 10\n",
      "放映地區: 高雄, 代號(area_id): 17\n"
     ]
    }
   ],
   "source": [
    "url = 'https://movies.yahoo.com.tw/api/v1/areas_by_movie_theater'\n",
    "payload = {'movie_id':str(movie_id)}\n",
    "\n",
    "# 模擬一個header\n",
    "headers = {\n",
    "    'authority': 'movies.yahoo.com.tw',\n",
    "    'method': 'GET',\n",
    "    'path': '/api/v1/areas_by_movie_theater?movie_id=' + str(movie_id),\n",
    "    'scheme': 'https',\n",
    "    'accept': 'application/json, text/javascript, */*; q=0.01',\n",
    "    'accept-encoding': 'gzip, deflate, br',\n",
    "    'accept-language': 'zh-TW,zh;q=0.9,en-US;q=0.8,en;q=0.7,zh-CN;q=0.6',\n",
    "    'cookie': 'rxx=9s3x2fws06.1g16irnc&v=1; _ga=GA1.3.2056742944.1551651301; GUC=AQEBAQFczFpdm0IfmwSB&s=AQAAACoo4N5D&g=XMsVBw; BX=4hkdk1decm57t&b=3&s=mr; _ga=GA1.4.2056742944.1551651301; nexagesuid=82843256dd234e8e91aa73f2062f8218; browsed_movie=eyJpdiI6IlJXWWtiSWJaZlNGK2MxQnhscnVUYWc9PSIsInZhbHVlIjoiMXRhMmVHRXRIeUNjc1RBWDJzdGYwbnlIQURmWGsrcjJSMzhkbkcraDNJVUNIZEZsbzU3amlFcVZ1NzlmazJrTGpoMjVrbHk1YmpoRENXaHZTOUw1TmI2ZTZVWHdOejZQZm16RmVuMWlHTTJLaTZLVFZZVkFOMDlTd1wvSGltcytJIiwibWFjIjoiZWQ2ZjA4MmVjZmZlYjlmNjJmYmY2NGMyMDI0Njc0NWViYjVkOWE2NDg0N2RhODMxZjBjZDhiMmJhZTc2MDZhYiJ9; avi=eyJpdiI6Im1NeWFJRlVRWDR1endEcGRGUGJUbVE9PSIsInZhbHVlIjoickRpU3JuUytmcGl6cjF5OW0rNU9iZz09IiwibWFjIjoiY2VmY2NkNzZmM2NhNjY5YzlkOTcyNjE5OGEyMzU0NWYxOTdmMDRkMDY3OWNmMmZjOTMxYjc5MjI5N2Q5NGE5MiJ9; cmp=t=1559391030&j=0; _gid=GA1.4.779543841.1559391031; XSRF-TOKEN=eyJpdiI6IkhpS2hGcDRQaHlmWUJmaHdSS2Q2bHc9PSIsInZhbHVlIjoiOUVoNFk4OHI1UUZmUWRtYXhza0MyWjJSTlhlZ3RnT0VGeVJPN2JuczVRMGRFdWt2OUlsamVKeHRobFwvcHBGM0dhU3VyMXNGTHlsb2dVM2l0U1hpUGxBPT0iLCJtYWMiOiJkZWU4YzJhNjAxMTY3MzE4Y2ExNWIxYmE1ZjE1YWZlZTlhOTcyYjc4M2RlZGY4ZWNjZDYyMTA2NGYwZGViMzc2In0%3D; m_s=eyJpdiI6InpsZHZ2Tk1BZ0dxaHhETml1RjBnUXc9PSIsInZhbHVlIjoiSkNGeHUranRoXC85bDFiaDhySTJqNkJRcWdjWUxjeVRJSHVYZ1wvd2d4bWJZUTUrSHVDM0lUcW5KNHdETFZ4T1lieU81OUhzc1VoUXhZcWk0UDZSQXVFdz09IiwibWFjIjoiYmJkMDJkMDhlODIzMzcyMWY4M2NmYWNjNGVlOWRjMDIwZmVmNzAyMjE3Yzg3ZGY3ODBkZWEzZTI4MTI5ZWNmOSJ9; _gat=1; nexagesd=10',\n",
    "    'dnt': '1',\n",
    "    'mv-authorization': '21835b082e15b91a69b3851eec7b31b82ce82afb',\n",
    "    'referer': 'https://movies.yahoo.com.tw/',\n",
    "    'user-agent': 'Mozilla/5.0 (Windows NT 10.0; Win64; x64) AppleWebKit/537.36 (KHTML, like Gecko) Chrome/74.0.3729.169 Safari/537.36',\n",
    "    'x-requested-with': 'XMLHttpRequest',\n",
    "}\n",
    "    \n",
    "resp = requests.get(url, params=payload, headers=headers)\n",
    "#print(resp.json())  # 若有需要，列印出json原始碼\n",
    "\n",
    "# 這裡回傳的格式是JSON格式的資料，要解析JSON擷取資料\n",
    "for p in resp.json():\n",
    "    print('放映地區: {0}, 代號(area_id): {1}'.format(p['title'], p['area_id']))"
   ]
  },
  {
   "cell_type": "markdown",
   "metadata": {},
   "source": [
    "### 指定你想要觀看的放映地區，查詢有上映電影的場次日期"
   ]
  },
  {
   "cell_type": "code",
   "execution_count": 36,
   "metadata": {},
   "outputs": [],
   "source": [
    "# 指定放映地區\n",
    "area_id = 28"
   ]
  },
  {
   "cell_type": "code",
   "execution_count": 37,
   "metadata": {},
   "outputs": [
    {
     "name": "stdout",
     "output_type": "stream",
     "text": [
      "四月 14\n",
      "四月 15\n",
      "四月 16\n",
      "四月 17\n",
      "四月 18\n"
     ]
    }
   ],
   "source": [
    "# 向網站發送請求\n",
    "url = 'https://movies.yahoo.com.tw/movietime_result.html'\n",
    "payload = {'movie_id':str(movie_id), 'area_id':str(area_id)}\n",
    "resp = requests.get(url, params=payload)\n",
    "resp.encoding = 'utf-8'\n",
    "\n",
    "soup = BeautifulSoup(resp.text, 'lxml')\n",
    "movie_date = soup.find_all(\"label\", attrs={'for':re.compile(\"date_[\\d]\")})\n",
    "\n",
    "# 列印播放日期\n",
    "for date in movie_date:\n",
    "    print(\"%s %s\" % (date.p.string, date.h3.string))"
   ]
  },
  {
   "cell_type": "markdown",
   "metadata": {},
   "source": [
    "### 最後指定觀看的日期，查詢並列印出放映的電影院、放映類型(數位、3D、IMAX 3D...)、放映時間等資訊。"
   ]
  },
  {
   "cell_type": "code",
   "execution_count": 49,
   "metadata": {},
   "outputs": [],
   "source": [
    "# 選定要觀看的日期\n",
    "date = \"2020-04-14\""
   ]
  },
  {
   "cell_type": "code",
   "execution_count": 50,
   "metadata": {},
   "outputs": [
    {
     "name": "stdout",
     "output_type": "stream",
     "text": [
      "<div class=\"pc-movie-schedule-form\">\n",
      "    <div class=\"area_timebox\">\n",
      "   <div class=\"area_title\">台北市</div>\n",
      "      <ul id=\"theater_id_45\" class=\"area_time _c jq_area_time\" data-theater_name=\"台北信義威秀影城\" data-theater_url=\"http://www.vscinemas.com.tw/\" data-theater_schedules=\"https://movies.yahoo.com.tw/theater_result.html/id=45\" >\n",
      "       <li class=\"adds\">\n",
      "           <a href=\"https://movies.yahoo.com.tw/theater_result.html/id=45\">台北信義威秀影城</a>\n",
      "           <span>02-87805566</span>\n",
      "       </li>\n",
      "                         <li class=\"taps\">\n",
      "                <span class=\"tapR\">數位</span>                           </li>\n",
      "           <li class=\"time _c\">\n",
      "               <div class=\"input_picker jq_input_picker\">\n",
      "                                                                   <input type=\"radio\" name=\"schedule_list\" id=\"73455065\" class=\"gabtn\"\n",
      "                        value=\"2020-04-14 21:55:00\"  data-movie=\"6309f040ea034239b2ce8847ff9ae47f\"\n",
      "                        data-cinema=\"40288eb0050f542401050f554e7e0674\" data-session=\"05e9572bce4c480892e34dd8cc06612d\"\n",
      "                        data-date=\"1586793600\" data-time=\"1586872500\"\n",
      "                        data-movie_type=\"數位\"\n",
      "                        data-movie_title=\"女鬼橋\"\n",
      "                        data-movie_date=\"04.14\"\n",
      "                        data-movie_time=\"21:55\"\n",
      "                        data-ga=\"['電影頁_時刻表', '電影頁_時刻表_場次', '女鬼橋']\" data-ezding=\"ezding\"\n",
      "                        />\n",
      "                    <label for=\"73455065\" class=\"select\">21:55</label>\n",
      "                                               </div>\n",
      "           </li>\n",
      "          </ul>\n",
      "      <ul id=\"theater_id_186\" class=\"area_time _c jq_area_time\" data-theater_name=\"喜樂時代影城南港店\" data-theater_url=\"http://www.centuryasia.com.tw/default.aspx\" data-theater_schedules=\"https://movies.yahoo.com.tw/theater_result.html/id=186\" >\n",
      "       <li class=\"adds\">\n",
      "           <a href=\"https://movies.yahoo.com.tw/theater_result.html/id=186\">喜樂時代影城南港店</a>\n",
      "           <span>02-27888185</span>\n",
      "       </li>\n",
      "                         <li class=\"taps\">\n",
      "                <span class=\"tapR\">數位</span>                 <span class=\"tapB\">中文</span>            </li>\n",
      "           <li class=\"time _c\">\n",
      "               <div class=\"input_picker jq_input_picker\">\n",
      "                                                                   <input type=\"radio\" name=\"schedule_list\" id=\"73459623\" class=\"gabtn\"\n",
      "                        value=\"2020-04-14 17:25:00\"  data-movie=\"e50806ef688f415aabc4e29338fd81cc\"\n",
      "                        data-cinema=\"40288eb0050f542401050f5681782dc5\" data-session=\"34364e24f7034a0398a1c017ddb73153\"\n",
      "                        data-date=\"1586793600\" data-time=\"1586856300\"\n",
      "                        data-movie_type=\"數位\"\n",
      "                        data-movie_title=\"女鬼橋\"\n",
      "                        data-movie_date=\"04.14\"\n",
      "                        data-movie_time=\"17:25\"\n",
      "                        data-ga=\"['電影頁_時刻表', '電影頁_時刻表_場次', '女鬼橋']\" data-ezding=\"ezding\"\n",
      "                        />\n",
      "                    <label for=\"73459623\" class=\"select\">17:25</label>\n",
      "                                                                                    <input type=\"radio\" name=\"schedule_list\" id=\"73459624\" class=\"gabtn\"\n",
      "                        value=\"2020-04-14 20:00:00\"  data-movie=\"e50806ef688f415aabc4e29338fd81cc\"\n",
      "                        data-cinema=\"40288eb0050f542401050f5681782dc5\" data-session=\"2f81fd55d7144acfb9c0b1c620691693\"\n",
      "                        data-date=\"1586793600\" data-time=\"1586865600\"\n",
      "                        data-movie_type=\"數位\"\n",
      "                        data-movie_title=\"女鬼橋\"\n",
      "                        data-movie_date=\"04.14\"\n",
      "                        data-movie_time=\"20:00\"\n",
      "                        data-ga=\"['電影頁_時刻表', '電影頁_時刻表_場次', '女鬼橋']\" data-ezding=\"ezding\"\n",
      "                        />\n",
      "                    <label for=\"73459624\" class=\"select\">20:00</label>\n",
      "                                               </div>\n",
      "           </li>\n",
      "          </ul>\n",
      "   </div>\n",
      "\n",
      "    <div class=\"booking_modal jq_booking_modal\">\n",
      "    <div class=\"booking_modal_backdrop\"></div>\n",
      "    <!-- 時報訂票 ＆ 有官網訂票 新增 class => no_seats -->\n",
      "    <div class=\"booking_modal_content jq_booking_modal_content\">\n",
      "        <form method=\"get\" action=\"https://movies.yahoo.com.tw/ticket/ezding_ticket\" target=\"_blank\" id=\"form_schedule\">\n",
      "                <div class=\"ezding_ticket_value\">\n",
      "            <input type=\"hidden\" name=\"movie_id\" value=\"\">\n",
      "            <input type=\"hidden\" name=\"cinema_id\" value=\"\">\n",
      "            <input type=\"hidden\" name=\"session_id\" value=\"\">\n",
      "            <input type=\"hidden\" name=\"date\" value=\"\">\n",
      "            <input type=\"hidden\" name=\"time\" value=\"\">\n",
      "            <input type=\"hidden\" name=\"campaign_code\" value=\"yahoopc\">\n",
      "        </div>\n",
      "        <ul class=\"top_infos\">\n",
      "            <li>\n",
      "                <p>片名</p>\n",
      "                <h3 id=\"top_infos_movie\"></h3>\n",
      "            </li>\n",
      "            <li>\n",
      "                <p>影城</p>\n",
      "                <h3 id=\"top_infos_theater\"></h3>\n",
      "            </li>\n",
      "            <li>\n",
      "                <p>日期</p>\n",
      "                <h3 id=\"top_infos_date\"></h3>\n",
      "            </li>\n",
      "            <li>\n",
      "                <p>版本</p>\n",
      "                <h3 id=\"top_infos_movie_type\"></h3>\n",
      "            </li>\n",
      "            <li>\n",
      "                <p>時間</p>\n",
      "                <h3 id=\"top_infos_time\"></h3>\n",
      "            </li>\n",
      "        </ul>\n",
      "        \n",
      "        <div class=\"booking_seats\">\n",
      "            <a href=\"#\" class=\"theater_schedules gabtn\" data-ga=\"['電影頁_時刻表', '電影頁_時刻表_一般戲院_全部電影場次', '']\">全部電影場次</a>\n",
      "            <a href=\"#\" class=\"theater_url gabtn\" data-ga=\"['電影頁_時刻表', '電影頁_時刻表_一般戲院_官網訂票', '']\" target=\"_blank\">官網訂票</a>\n",
      "            <p id=\"no_theater_url\" class=\"no_theater_url\">無提供官網訂票</p>\n",
      "\n",
      "            <p id=\"booking_number\" class=\"booking_number\">人數</p>\n",
      "            <div class=\"booking_seat_group jq_booking_seat_group\">\n",
      "                                    <input type=\"radio\" name=\"tickets\" id=\"seat_1\" value=\"1\" />\n",
      "                    <label for=\"seat_1\">1</label>\n",
      "                                    <input type=\"radio\" name=\"tickets\" id=\"seat_2\" value=\"2\"  checked />\n",
      "                    <label for=\"seat_2\">2</label>\n",
      "                                    <input type=\"radio\" name=\"tickets\" id=\"seat_3\" value=\"3\" />\n",
      "                    <label for=\"seat_3\">3</label>\n",
      "                                    <input type=\"radio\" name=\"tickets\" id=\"seat_4\" value=\"4\" />\n",
      "                    <label for=\"seat_4\">4</label>\n",
      "                                    <input type=\"radio\" name=\"tickets\" id=\"seat_5\" value=\"5\" />\n",
      "                    <label for=\"seat_5\">5</label>\n",
      "                                    <input type=\"radio\" name=\"tickets\" id=\"seat_6\" value=\"6\" />\n",
      "                    <label for=\"seat_6\">6</label>\n",
      "                            </div>\n",
      "            <button type=\"submit\" class=\"action_btn action_booking_btn jq_booking_btn gabtn\" data-ga=\"['電影頁_時刻表', '電影頁_時刻表_一般戲院_選位', '']\">選位</button>\n",
      "            <a href=\"#\" class=\"action_btn action_link jq_booking_link gabtn\" data-ga=\"['電影頁_時刻表', '電影頁_時刻表_時報戲院_官網選位', '']\" target=\"_blank\">官網訂票</a>\n",
      "            <button type=\"button\" class=\"action_btn close jq_close_booking_btn\">關閉</button>\n",
      "        </div>\n",
      "        </form>\n",
      "\n",
      "        <!-- 無官網訂票區塊 -->\n",
      "        <div class=\"no_theater_section\">\n",
      "            <p>無提供官網訂票</p>\n",
      "            <button type=\"button\" class=\"action_btn close jq_close_booking_btn\">關閉</button>\n",
      "        </div>\n",
      "    </div>\n",
      "</div></div>\n"
     ]
    }
   ],
   "source": [
    "# 向網站發送請求，獲取上映的電影院及時間資訊\n",
    "url = \"https://movies.yahoo.com.tw/ajax/pc/get_schedule_by_movie\"\n",
    "payload = {'movie_id':str(movie_id),\n",
    "           'date':date,\n",
    "           'area_id':str(area_id),\n",
    "           'theater_id':'',\n",
    "           'datetime':'',\n",
    "           'movie_type_id':''}\n",
    "headers = {\n",
    "    'authority': 'movies.yahoo.com.tw',\n",
    "    'method': 'GET',\n",
    "    'path': '/api/v1/areas_by_movie_theater?movie_id=' + str(movie_id),\n",
    "    'scheme': 'https',\n",
    "    'accept': 'application/json, text/javascript, */*; q=0.01',\n",
    "    'accept-encoding': 'gzip, deflate, br',\n",
    "    'accept-language': 'zh-TW,zh;q=0.9,en-US;q=0.8,en;q=0.7,zh-CN;q=0.6',\n",
    "    'cookie': 'rxx=9s3x2fws06.1g16irnc&v=1; _ga=GA1.3.2056742944.1551651301; GUC=AQEBAQFczFpdm0IfmwSB&s=AQAAACoo4N5D&g=XMsVBw; BX=4hkdk1decm57t&b=3&s=mr; _ga=GA1.4.2056742944.1551651301; nexagesuid=82843256dd234e8e91aa73f2062f8218; browsed_movie=eyJpdiI6IlJXWWtiSWJaZlNGK2MxQnhscnVUYWc9PSIsInZhbHVlIjoiMXRhMmVHRXRIeUNjc1RBWDJzdGYwbnlIQURmWGsrcjJSMzhkbkcraDNJVUNIZEZsbzU3amlFcVZ1NzlmazJrTGpoMjVrbHk1YmpoRENXaHZTOUw1TmI2ZTZVWHdOejZQZm16RmVuMWlHTTJLaTZLVFZZVkFOMDlTd1wvSGltcytJIiwibWFjIjoiZWQ2ZjA4MmVjZmZlYjlmNjJmYmY2NGMyMDI0Njc0NWViYjVkOWE2NDg0N2RhODMxZjBjZDhiMmJhZTc2MDZhYiJ9; avi=eyJpdiI6Im1NeWFJRlVRWDR1endEcGRGUGJUbVE9PSIsInZhbHVlIjoickRpU3JuUytmcGl6cjF5OW0rNU9iZz09IiwibWFjIjoiY2VmY2NkNzZmM2NhNjY5YzlkOTcyNjE5OGEyMzU0NWYxOTdmMDRkMDY3OWNmMmZjOTMxYjc5MjI5N2Q5NGE5MiJ9; cmp=t=1559391030&j=0; _gid=GA1.4.779543841.1559391031; XSRF-TOKEN=eyJpdiI6IkhpS2hGcDRQaHlmWUJmaHdSS2Q2bHc9PSIsInZhbHVlIjoiOUVoNFk4OHI1UUZmUWRtYXhza0MyWjJSTlhlZ3RnT0VGeVJPN2JuczVRMGRFdWt2OUlsamVKeHRobFwvcHBGM0dhU3VyMXNGTHlsb2dVM2l0U1hpUGxBPT0iLCJtYWMiOiJkZWU4YzJhNjAxMTY3MzE4Y2ExNWIxYmE1ZjE1YWZlZTlhOTcyYjc4M2RlZGY4ZWNjZDYyMTA2NGYwZGViMzc2In0%3D; m_s=eyJpdiI6InpsZHZ2Tk1BZ0dxaHhETml1RjBnUXc9PSIsInZhbHVlIjoiSkNGeHUranRoXC85bDFiaDhySTJqNkJRcWdjWUxjeVRJSHVYZ1wvd2d4bWJZUTUrSHVDM0lUcW5KNHdETFZ4T1lieU81OUhzc1VoUXhZcWk0UDZSQXVFdz09IiwibWFjIjoiYmJkMDJkMDhlODIzMzcyMWY4M2NmYWNjNGVlOWRjMDIwZmVmNzAyMjE3Yzg3ZGY3ODBkZWEzZTI4MTI5ZWNmOSJ9; _gat=1; nexagesd=10',\n",
    "    'dnt': '1',\n",
    "    'mv-authorization': '21835b082e15b91a69b3851eec7b31b82ce82afb',\n",
    "    'referer': 'https://movies.yahoo.com.tw/',\n",
    "    'user-agent': 'Mozilla/5.0 (Windows NT 10.0; Win64; x64) AppleWebKit/537.36 (KHTML, like Gecko) Chrome/74.0.3729.169 Safari/537.36',\n",
    "    'x-requested-with': 'XMLHttpRequest',   \n",
    "}\n",
    "\n",
    "resp = requests.get(url, params=payload, headers=headers)\n",
    "print(resp.json()['view'])  # 若有需要，列印出json原始碼\n",
    "\n",
    "soup = BeautifulSoup(resp.json()['view'], 'lxml')\n",
    "html = soup.find_all(\"ul\", attrs={'data-theater_name':re.compile(\".*\")})"
   ]
  },
  {
   "cell_type": "code",
   "execution_count": 51,
   "metadata": {},
   "outputs": [
    {
     "name": "stdout",
     "output_type": "stream",
     "text": [
      "電影院:台北信義威秀影城\n",
      "影片放映類型:數位\n",
      "時間表: 21:55\n",
      "電影院:喜樂時代影城南港店\n",
      "影片放映類型:數位\n",
      "時間表: 17:25\n"
     ]
    }
   ],
   "source": [
    "'''\n",
    "\n",
    "  試著從上一步驟回傳的電影院資料中，擷取電影院名稱、影片放映類型以及時間表\n",
    "  \n",
    "  Your code here.\n",
    "\n",
    "'''\n",
    "#向網站發送請求，擷取電影院名稱、影片放映類型以及時間表\n",
    "for info in html:\n",
    "    theater_name=info.find(class_=\"adds\").find('a').text\n",
    "    movie_type=info.find(class_=\"tapR\").text\n",
    "    date=info.find(class_=\"time _c\").find(class_=\"input_picker\").find('label').text\n",
    "    print('電影院:'+theater_name)\n",
    "    print('影片放映類型:'+movie_type)\n",
    "    print('時間表:', date)"
   ]
  },
  {
   "cell_type": "code",
   "execution_count": 52,
   "metadata": {},
   "outputs": [
    {
     "name": "stdout",
     "output_type": "stream",
     "text": [
      "女鬼橋\n",
      "台北信義威秀影城 數位 21:55\n",
      "喜樂時代影城南港店 數位 17:25\n"
     ]
    }
   ],
   "source": [
    "for p in html:\n",
    "    movie_name = p.input.attrs['data-movie_title']\n",
    "    print(movie_name)\n",
    "    break\n",
    "\n",
    "for data in html:\n",
    "    movie_theatre_name = data.find('a').text\n",
    "    movie_type = data.input.attrs['data-movie_type']\n",
    "    movie_time = data.input.attrs['data-movie_time']\n",
    "    print(movie_theatre_name, movie_type, movie_time)"
   ]
  },
  {
   "cell_type": "code",
   "execution_count": null,
   "metadata": {},
   "outputs": [],
   "source": []
  }
 ],
 "metadata": {
  "kernelspec": {
   "display_name": "Python 3",
   "language": "python",
   "name": "python3"
  },
  "language_info": {
   "codemirror_mode": {
    "name": "ipython",
    "version": 3
   },
   "file_extension": ".py",
   "mimetype": "text/x-python",
   "name": "python",
   "nbconvert_exporter": "python",
   "pygments_lexer": "ipython3",
   "version": "3.7.4"
  }
 },
 "nbformat": 4,
 "nbformat_minor": 2
}
