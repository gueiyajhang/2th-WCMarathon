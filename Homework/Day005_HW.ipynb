{
 "cells": [
  {
   "cell_type": "markdown",
   "metadata": {},
   "source": [
    "# API 資料串接 - 以 Dcard API 實作範例\n",
    "\n",
    "* 了解 Dcard API 使用方式與回傳內容\n",
    "* 撰寫程式存取 API 且解析 JSON 格式資料\n"
   ]
  },
  {
   "cell_type": "markdown",
   "metadata": {},
   "source": [
    "## 作業目標\n",
    "\n",
    "* 請利用 API: https://www.dcard.tw/_api/forums/pet/posts?popular=true 回答下列問題：\n",
    "\n",
    "1. 這個 API 一次會回傳幾筆資料？每一筆資料包含哪些欄位？\n",
    "2. 取出每一筆資料的「標題」、「貼文時間」、「留言人數」、「按讚人數」\n",
    "3. 計算熱門/非熱門文章的「平均留言人數」與「平均按讚人數」"
   ]
  },
  {
   "cell_type": "code",
   "execution_count": 8,
   "metadata": {},
   "outputs": [
    {
     "data": {
      "text/plain": [
       "'[{\"id\":233153760,\"title\":\"文長 我擁有全世界最棒的貓咪\",\"excerpt\":\"最愛生氣，非常傲嬌，不喜歡被抱，不喜歡親親，但是，你喜歡整個頭塞進來我們的手裡撒嬌，喜歡靠著爸爸的手陪他打電動，喜歡窩在我的腳上陪我打報告，喜歡窩在我們身邊陪我們睡覺，（醒著的時候你都不理我們），你跟\",\"anonymousSchool\":false,\"anonymousDepartment\":true,\"pinned\":false,\"forumId\":\"7ee21581-1307-4ba9-b9dc-82028bdcca49\",\"replyId\":null,\"createdAt\":\"2020-02-27T23:47:16.852Z\",\"updatedAt\":\"2020-02-27T23:48:09.446Z\",\"commentCount\":11,\"likeCount\":276,\"withNickname\":false,\"tags\":[],\"topics\":[\"全世界\",\"最棒\",\"貓咪\",\"我的寶貝\",\"文長\"],\"meta\":{\"layout\":\"classic\"},\"forumName\":\"寵物\",\"forumAlias\":\"pet\",\"gender\":\"F\",\"school\":\"崑山科技大學\",\"replyTitle\":null,\"mediaMeta\":[{\"id\":\"c0c07093-7deb-4c0e-a7cb-869d0ea430bf\",\"url\":\"https://megapx-assets.dcard.tw/images/344d0316-775b-4051-9504-cb82483ee418/640.jpeg\",\"normalizedUrl\":\"https://megapx-assets.dcard.tw/images/344d0316-775b-4051-9504-cb82483ee418/640.jpeg\",\"thumbnail\":\"https://megapx-assets.dcard.tw/images/344d0316-775b-4051-9504-cb82483ee418/640.jpeg\",\"type\":\"image/thumbnail\",\"tags\":[\"ANNOTATED\"],\"createdAt\":\"2020-02-27T'"
      ]
     },
     "execution_count": 8,
     "metadata": {},
     "output_type": "execute_result"
    }
   ],
   "source": [
    "import requests\n",
    "webDataPop = requests.get( 'https://www.dcard.tw/_api/forums/pet/posts?popular=true')\n",
    "response = webDataPop.text\n",
    "\n",
    "response[:1000]"
   ]
  },
  {
   "cell_type": "code",
   "execution_count": 9,
   "metadata": {},
   "outputs": [
    {
     "name": "stdout",
     "output_type": "stream",
     "text": [
      "這個 API 一次會回傳30筆資料\n",
      "每一筆資料包含以下資料: dict_keys(['id', 'title', 'excerpt', 'anonymousSchool', 'anonymousDepartment', 'pinned', 'forumId', 'replyId', 'createdAt', 'updatedAt', 'commentCount', 'likeCount', 'withNickname', 'tags', 'topics', 'meta', 'forumName', 'forumAlias', 'gender', 'school', 'replyTitle', 'mediaMeta', 'reactions', 'hidden', 'customStyle', 'isSuspiciousAccount', 'layout', 'withImages', 'withVideos', 'media', 'reportReasonText', 'postAvatar'])\n"
     ]
    }
   ],
   "source": [
    "# 1. 這個 API 一次會回傳幾筆資料？每一筆資料包含哪些欄位？\n",
    "import json\n",
    "data = json.loads(response)\n",
    "\n",
    "count_number = 0\n",
    "\n",
    "for d in data:\n",
    "    count_number += 1\n",
    "\n",
    "print('這個 API 一次會回傳%s筆資料' % count_number)\n",
    "print('每一筆資料包含以下資料:', data[0].keys())"
   ]
  },
  {
   "cell_type": "code",
   "execution_count": 10,
   "metadata": {},
   "outputs": [
    {
     "name": "stdout",
     "output_type": "stream",
     "text": [
      "標題: 文長 我擁有全世界最棒的貓咪   貼文時間: 2020-02-27T23:47:16.852Z 留言人數: 11 按讚人數: 276\n",
      "標題: 曬照🐿️   貼文時間: 2020-02-28T03:46:37.460Z 留言人數: 7 按讚人數: 173\n",
      "標題: 三腳黑妞；救援孕狗不是件容易的事   貼文時間: 2020-02-28T04:16:05.721Z 留言人數: 4 按讚人數: 128\n",
      "標題: 求這篇限時的貓咪   貼文時間: 2020-02-28T06:23:06.364Z 留言人數: 3 按讚人數: 100\n",
      "標題: 所以說到底是什麼生物呢   貼文時間: 2020-02-28T06:28:07.294Z 留言人數: 3 按讚人數: 97\n",
      "標題: 朕想怎麼睡 就怎麼睡(˶‾᷄ ⁻̫ ‾᷅˵)   貼文時間: 2020-02-27T19:53:48.404Z 留言人數: 2 按讚人數: 69\n",
      "標題: 來曬一下家裡的黑狗🐶   貼文時間: 2020-02-27T21:10:15.772Z 留言人數: 7 按讚人數: 59\n",
      "標題: 柯基犬曬萌照   貼文時間: 2020-02-28T04:37:56.515Z 留言人數: 0 按讚人數: 29\n",
      "標題: 我只是想打個哈欠🥱   貼文時間: 2020-02-28T16:44:58.714Z 留言人數: 3 按讚人數: 22\n",
      "標題: 同學我要妮的貓貓！！！   貼文時間: 2020-02-28T07:26:54.480Z 留言人數: 3 按讚人數: 21\n",
      "標題: 家有兩隻貓(⌯͒⁍̩̩᷄ ɪ ⁍̩̩᷄ฅ͒)   貼文時間: 2020-02-28T16:04:47.921Z 留言人數: 1 按讚人數: 18\n",
      "標題: #圖 酒醉大鼠   貼文時間: 2020-02-28T08:49:27.019Z 留言人數: 2 按讚人數: 17\n",
      "標題: 看那顫抖的小眼眶   貼文時間: 2020-02-27T22:52:19.976Z 留言人數: 4 按讚人數: 17\n",
      "標題: 懇請大家協尋狗小孩   貼文時間: 2020-02-28T08:09:39.155Z 留言人數: 1 按讚人數: 16\n",
      "標題: 最chill的邊境   貼文時間: 2020-02-29T01:18:56.165Z 留言人數: 1 按讚人數: 13\n",
      "標題: 純粹想曬曬我家柯基🐶   貼文時間: 2020-02-29T03:59:09.926Z 留言人數: 2 按讚人數: 12\n",
      "標題: 戲精貓-瞳孔放大片篇   貼文時間: 2020-02-28T05:13:43.720Z 留言人數: 0 按讚人數: 12\n",
      "標題: 這位同學！請交出你的貓！   貼文時間: 2020-02-28T18:50:36.643Z 留言人數: 2 按讚人數: 10\n",
      "標題: #問 野生鼠會跟寵物鼠有共鳴嗎？   貼文時間: 2020-02-28T15:39:29.606Z 留言人數: 3 按讚人數: 9\n",
      "標題: 蛇板？（有關掉預覽   貼文時間: 2020-02-28T17:20:29.630Z 留言人數: 2 按讚人數: 8\n",
      "標題: 雖然不是第一次，但還是很緊張的假新手   貼文時間: 2020-02-28T15:27:26.396Z 留言人數: 0 按讚人數: 8\n",
      "標題: 尋狗 新莊夜市走丟的   貼文時間: 2020-02-28T02:57:24.261Z 留言人數: 0 按讚人數: 8\n",
      "標題: 感覺是走失的狗狗🐕（？）   貼文時間: 2020-02-28T10:27:25.209Z 留言人數: 3 按讚人數: 7\n",
      "標題: 賓士貓送養 已結紮&預防針   貼文時間: 2020-02-29T03:06:56.553Z 留言人數: 3 按讚人數: 6\n",
      "標題: 問 狗狗品種   貼文時間: 2020-02-29T03:03:15.315Z 留言人數: 4 按讚人數: 6\n",
      "標題: #找主人  朝陽科大7-11附近走失貓   貼文時間: 2020-02-28T12:43:11.635Z 留言人數: 0 按讚人數: 6\n",
      "標題: 貓一出門就大叫   貼文時間: 2020-02-28T07:19:23.699Z 留言人數: 2 按讚人數: 6\n",
      "標題: 被野貓咬要去打狂犬疫苗嗎   貼文時間: 2020-02-28T07:00:46.555Z 留言人數: 2 按讚人數: 6\n",
      "標題: 浪浪愛撒嬌❤️   貼文時間: 2020-02-28T15:08:46.506Z 留言人數: 0 按讚人數: 5\n",
      "標題: 我家有一隻謎貓   貼文時間: 2020-02-28T12:28:01.691Z 留言人數: 8 按讚人數: 5\n"
     ]
    }
   ],
   "source": [
    "# 2. 取出每一筆資料的「標題」、「貼文時間」、「留言人數」、「按讚人數」\n",
    "for d in data:\n",
    "    print('標題:',d['title'],' ','貼文時間:', d['createdAt'], '留言人數:', d['commentCount'], '按讚人數:', d['likeCount'])"
   ]
  },
  {
   "cell_type": "code",
   "execution_count": 14,
   "metadata": {},
   "outputs": [
    {
     "name": "stdout",
     "output_type": "stream",
     "text": [
      "熱門文章的「平均留言人數」: 2.7666666666666666\n",
      "熱門文章的「平均按讚人數」: 19.483333333333334\n",
      "非熱門文章的「平均留言人數」: 2.7666666666666666\n",
      "非熱門文章的「平均按讚人數」: 1.8666666666666667\n"
     ]
    }
   ],
   "source": [
    "# 3. 計算熱門/非熱門文章的「平均留言人數」與「平均按讚人數」\n",
    "# 先初始設定熱門文章數量\n",
    "count_number = 0\n",
    "\n",
    "# 計算熱門文章的「平均留言人數」\n",
    "comment_count = 0\n",
    "for comment in data:\n",
    "    count_number += 1\n",
    "    comment_count += comment['commentCount']\n",
    "\n",
    "print('熱門文章的「平均留言人數」:', comment_count/count_number)\n",
    "\n",
    "# 計算熱門文章的「平均按讚人數」\n",
    "like_count = 0\n",
    "\n",
    "for like in data:\n",
    "    count_number += 1\n",
    "    like_count += like['likeCount']\n",
    "\n",
    "print('熱門文章的「平均按讚人數」:', like_count/count_number)\n",
    "\n",
    "# 取得非熱門文章資料\n",
    "# 引入函式庫 ps.f為false之意\n",
    "rf = requests.get('https://www.dcard.tw/_api/forums/pet/posts?popular=false')\n",
    "# 想要爬資料的⽬標網址\n",
    "responsef = rf.text\n",
    "dataf = json.loads(responsef)\n",
    "      \n",
    "# 先初始設定非熱門文章數量\n",
    "countf_number = 0\n",
    "\n",
    "# 計算熱門文章的「平均留言人數」\n",
    "commentf_count = 0\n",
    "for commentf in data:\n",
    "    countf_number += 1\n",
    "    commentf_count += commentf['commentCount']\n",
    "\n",
    "print('非熱門文章的「平均留言人數」:', commentf_count/countf_number)\n",
    "\n",
    "# 計算非熱門文章的「平均按讚人數」\n",
    "likef_count = 0\n",
    "\n",
    "for likef in dataf:\n",
    "    countf_number +=1\n",
    "    likef_count += likef['likeCount']\n",
    "print('非熱門文章的「平均按讚人數」:', likef_count/countf_number)"
   ]
  },
  {
   "cell_type": "code",
   "execution_count": null,
   "metadata": {},
   "outputs": [],
   "source": []
  },
  {
   "cell_type": "code",
   "execution_count": null,
   "metadata": {},
   "outputs": [],
   "source": []
  }
 ],
 "metadata": {
  "kernelspec": {
   "display_name": "Python 3",
   "language": "python",
   "name": "python3"
  },
  "language_info": {
   "codemirror_mode": {
    "name": "ipython",
    "version": 3
   },
   "file_extension": ".py",
   "mimetype": "text/x-python",
   "name": "python",
   "nbconvert_exporter": "python",
   "pygments_lexer": "ipython3",
   "version": "3.7.4"
  }
 },
 "nbformat": 4,
 "nbformat_minor": 2
}
