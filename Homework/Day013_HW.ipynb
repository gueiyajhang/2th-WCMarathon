{
 "cells": [
  {
   "cell_type": "markdown",
   "metadata": {},
   "source": [
    "# PTT 網路爬蟲實作練習\n",
    "\n",
    "\n",
    "* 能夠利用 Request + BeatifulSour 撰寫爬蟲，並存放到合適的資料結構\n"
   ]
  },
  {
   "cell_type": "markdown",
   "metadata": {},
   "source": [
    "## 作業目標\n",
    "\n",
    "根據範例 ，完成以下問題：\n",
    "\n",
    "* ① 印出最新文章的「作者」「標題」「時間」\n",
    "* ② 印出第一頁所有文章的「作者」「標題」「時間」\n"
   ]
  },
  {
   "cell_type": "markdown",
   "metadata": {},
   "source": [
    "### ① 印出最新文章的「作者」「標題」「時間」"
   ]
  },
  {
   "cell_type": "code",
   "execution_count": 17,
   "metadata": {},
   "outputs": [
    {
     "name": "stdout",
     "output_type": "stream",
     "text": [
      "最新文章時間 2020-04-13 23:59:40\n",
      "時間          2020-04-13 23:59:40\n",
      "作者                       Gotham\n",
      "標題    [新聞] 保羅籲球員藉機學理財 專家稱鄧肯與賈奈特\n",
      "Name: 8, dtype: object\n"
     ]
    }
   ],
   "source": [
    "import requests\n",
    "from bs4 import BeautifulSoup\n",
    "import time\n",
    "import pandas as pd\n",
    "\n",
    "url = 'https://www.ptt.cc/bbs/NBA/index.html'\n",
    "r = requests.get(url)\n",
    "soup = BeautifulSoup(r.text, 'html5lib')\n",
    "\n",
    "newtag=soup.find('a',string='最新') #根據string找到標籤\n",
    "newlink='https://www.ptt.cc/'+newtag['href'] #獲得最新文章頁面的超連結後，記得組成完整網址\n",
    "\n",
    "#獲取最新文章所在頁面的原始碼 \n",
    "res2=BeautifulSoup(requests.get(newlink).text)\n",
    "\n",
    "#將時間整數轉成日期\n",
    "def TransTime(n):\n",
    "        timeint=int(n) #字串轉成整數資料，localtime只接受整數\n",
    "        times=time.localtime(timeint) #轉換日期\n",
    "        timeresult=time.strftime('%Y-%m-%d %H:%M:%S',times) #格式化\n",
    "        return timeresult\n",
    "    \n",
    "#找出最新文章\n",
    "tags=res2.find_all('div',class_=\"r-ent\")\n",
    "\n",
    "titlelist=[]\n",
    "authorlist=[]\n",
    "timelist=[]\n",
    "for tag in tags:\n",
    "    try:\n",
    "        timedata=tag.a['href'].split('.')[1] #從標籤 a的屬性 href取出時間整數值(資料型態:字串)\n",
    "        returntime=TransTime(timedata) #從函式回傳一個轉換後的時間值\n",
    "        timelist.append(returntime) #將此回傳值加到時間列表\n",
    "        authortag=tag.find('div',class_=\"author\") #找作者標籤\n",
    "        authorlist.append(authortag.text) #建立作者list\n",
    "        titlelist.append(tag.a.string) #建立文章標題list\n",
    "        \n",
    "    except:\n",
    "        continue\n",
    "        \n",
    "#建立dataframe\n",
    "df=pd.DataFrame({'時間':timelist,'作者':authorlist,'標題':titlelist})\n",
    "print('最新文章時間',df['時間'].max()) #找出最新時間\n",
    "n=0\n",
    "for i in df.iloc[:,0]: #對時間欄內所有時間比對\n",
    "    n+=1\n",
    "    if i ==df['時間'].max(): #若等於最新時間，輸出那一行(時間 &作者 &標題)\n",
    "        print(df.iloc[n-1,:])"
   ]
  },
  {
   "cell_type": "markdown",
   "metadata": {},
   "source": [
    "### ② 印出第一頁所有文章的「作者」「標題」「時間」"
   ]
  },
  {
   "cell_type": "code",
   "execution_count": 19,
   "metadata": {},
   "outputs": [],
   "source": [
    "#由看板任一頁url獲得最新一頁url\n",
    "def newestPage(url):\n",
    "    r=requests.get(url)\n",
    "    res=BeautifulSoup(r.text)\n",
    "    newtag=res.find('a',string='最新') #根據string找到標籤\n",
    "    newlink='https://www.ptt.cc/'+newtag['href'] #獲得最新文章頁面的超連結後，記得組成完整網址\n",
    "    return newlink\n",
    "    \n",
    "# newlink=newestPage('https://www.ptt.cc/bbs/NBA/index6501.html') #任一頁url丟入函式，獲得最新頁url"
   ]
  },
  {
   "cell_type": "code",
   "execution_count": 33,
   "metadata": {},
   "outputs": [
    {
     "name": "stdout",
     "output_type": "stream",
     "text": [
      "              作者                   時間                                    標題\n",
      "0      fukawa947  2020-04-13 17:10:28               [新聞] 為何交易掉羅素？勇士老闆：因為威金斯\n",
      "1          doepe  2020-04-13 18:00:49                [新聞] 柯瑞超狂射程　出手總長超兩座聖母峰\n",
      "2           Yui5  2020-04-13 18:15:58               [花邊] Cuban：疫情讓我想要去競選總統了\n",
      "3       asdf1256  2020-04-13 19:55:49              [新聞] 確診後收死亡威脅　戈貝爾懺悔：亂摸麥克\n",
      "4    love1500274  2020-04-13 21:26:06  [專欄] The Players' Tribune - 衝破黑暗-林書豪\n",
      "5       Intelnet  2020-04-13 21:41:50              [花邊] 皮朋喊是名人堂遺珠 庫寇奇：隨喬丹奪冠\n",
      "6     thnlkj0665  2020-04-13 22:28:41          [花邊] 護士防護服下穿自己球衣 柯瑞視訊來電親自給鼓勵\n",
      "7       fatotaku  2020-04-13 22:49:40    Re: [花邊] 陣容對比圖：最近的5位MVP VS 最近的FMVP\n",
      "8         Gotham  2020-04-13 23:59:40             [新聞] 保羅籲球員藉機學理財 專家稱鄧肯與賈奈特\n",
      "9       ghost069  2020-04-14 00:04:35                      [情報] 拓荒者錄影助理意外去世\n",
      "10       Bainite  2020-04-14 00:06:52                         [情報] 公牛GM被開除了\n",
      "11         Vedan  2019-05-24 19:43:14                           [公告] 板規v6.8\n",
      "12  qazwsx879345  2019-10-25 10:44:05                        [公告] 版主上任相關事項 \n",
      "13       Acetoxy  2020-03-02 01:19:44   [情報] SEASON Schedule 賽程 March 19–20\n",
      "14         Vedan  2020-03-09 11:44:28                 [公告] 第一次被退文，可在三天後刪除退文\n",
      "15         Vedan  2020-04-03 01:28:02                        [公告] 板務說明 (發錢)\n"
     ]
    },
    {
     "data": {
      "text/plain": [
       "'https://www.ptt.cc//bbs/NBA/index6501.html'"
      ]
     },
     "execution_count": 33,
     "metadata": {},
     "output_type": "execute_result"
    }
   ],
   "source": [
    "#建立函式:從最新一頁逐漸往上一頁搜尋文章\n",
    "def PageData(link):\n",
    "    r=BeautifulSoup(requests.get(link).text) #解析最新頁htnl網頁碼\n",
    "    #搜尋標籤   \n",
    "    rtags=r.find_all('div',class_=\"r-ent\")\n",
    "    titlelist=[]\n",
    "    authorlist=[]\n",
    "    timelist=[]\n",
    "\n",
    "    for rtag in rtags:\n",
    "        try:\n",
    "            titlelist.append(rtag.a.text) #建立文章標題list\n",
    "            authortag=rtag.find('div',class_=\"author\") #找作者標籤\n",
    "            authorlist.append(authortag.text) #建立作者list\n",
    "            timedata=rtag.a['href'].split('.')[1] #從標籤 a的屬性 href取出時間整數值(資料型態:字串)\n",
    "            returntime=TransTime(timedata) #從函式回傳一個轉換後的時間值\n",
    "            timelist.append(returntime) #將此回傳值加到時間列表\n",
    "\n",
    "        except:\n",
    "            continue\n",
    "\n",
    "    #建立dataframe印出文章資料\n",
    "    print(pd.DataFrame({'作者':authorlist,'時間':timelist,'標題':titlelist}))\n",
    "    \n",
    "    #回傳上一頁url\n",
    "    newtag=r.find('a',string='‹ 上頁')\n",
    "    lastpagelink='https://www.ptt.cc/'+newtag['href'] #獲得上一頁頁面的超連結後，記得組成完整網址\n",
    "    return lastpagelink\n",
    "\n",
    "#呼叫函式印出最新一頁內容\n",
    "PageData(newlink)"
   ]
  },
  {
   "cell_type": "code",
   "execution_count": 34,
   "metadata": {},
   "outputs": [
    {
     "name": "stdout",
     "output_type": "stream",
     "text": [
      "              作者                   時間                                    標題\n",
      "0      fukawa947  2020-04-13 17:10:28               [新聞] 為何交易掉羅素？勇士老闆：因為威金斯\n",
      "1          doepe  2020-04-13 18:00:49                [新聞] 柯瑞超狂射程　出手總長超兩座聖母峰\n",
      "2           Yui5  2020-04-13 18:15:58               [花邊] Cuban：疫情讓我想要去競選總統了\n",
      "3       asdf1256  2020-04-13 19:55:49              [新聞] 確診後收死亡威脅　戈貝爾懺悔：亂摸麥克\n",
      "4    love1500274  2020-04-13 21:26:06  [專欄] The Players' Tribune - 衝破黑暗-林書豪\n",
      "5       Intelnet  2020-04-13 21:41:50              [花邊] 皮朋喊是名人堂遺珠 庫寇奇：隨喬丹奪冠\n",
      "6     thnlkj0665  2020-04-13 22:28:41          [花邊] 護士防護服下穿自己球衣 柯瑞視訊來電親自給鼓勵\n",
      "7       fatotaku  2020-04-13 22:49:40    Re: [花邊] 陣容對比圖：最近的5位MVP VS 最近的FMVP\n",
      "8         Gotham  2020-04-13 23:59:40             [新聞] 保羅籲球員藉機學理財 專家稱鄧肯與賈奈特\n",
      "9       ghost069  2020-04-14 00:04:35                      [情報] 拓荒者錄影助理意外去世\n",
      "10       Bainite  2020-04-14 00:06:52                         [情報] 公牛GM被開除了\n",
      "11         Vedan  2019-05-24 19:43:14                           [公告] 板規v6.8\n",
      "12  qazwsx879345  2019-10-25 10:44:05                        [公告] 版主上任相關事項 \n",
      "13       Acetoxy  2020-03-02 01:19:44   [情報] SEASON Schedule 賽程 March 19–20\n",
      "14         Vedan  2020-03-09 11:44:28                 [公告] 第一次被退文，可在三天後刪除退文\n",
      "15         Vedan  2020-04-03 01:28:02                        [公告] 板務說明 (發錢)\n",
      "             作者                   時間                                    標題\n",
      "0     dragon803  2020-04-12 21:13:43                      [公告] wu5834 水桶6年\n",
      "1     bowenchen  2020-04-12 22:30:34                       [討論] 歐尼爾的身材太猛了吧\n",
      "2        Gotham  2020-04-12 23:59:40                 [新聞] 被誰看守能拿60分？柯瑞：所有人\n",
      "3   BradleyBeal  2020-04-13 00:22:54                [情報] 布朗爺:04活塞有甜瓜可以贏更多冠\n",
      "4     Induction  2020-04-13 00:52:39        Re: [花邊] 陣容對比圖：最近的5位MVP VS 最近的\n",
      "5    changyiyao  2020-04-13 06:12:40    [情報] NBA歷史 三分球命中數 (Regular Season)\n",
      "6      ghost069  2020-04-13 08:58:08        [情報] Gobert和Mitchell昨日通電話 雙方修復\n",
      "7    a221657947  2020-04-13 11:54:59            [花邊] Lillard:我跟賽森是韋伯州大最強後場\n",
      "8         lovea  2020-04-13 12:11:30              [新聞] 點名鄧肯與華勒斯 賈奈特：把自己推到另\n",
      "9          ckny  2020-04-13 12:19:01           [情報] 巫師記者爆料 全隊厭倦Jordan還搞排擠 \n",
      "10  Ayanami5566  2020-04-13 12:46:03            [情報] 11年前的今天，Wade砍下生涯新高55分\n",
      "11     ghost069  2020-04-13 12:51:41          [花邊] Shaq選三巨頭：我 詹皇 老大與Wade擇一\n",
      "12       pneumo  2020-04-13 14:15:45           [花邊] 火箭老闆:快速解雇45000員工其實是幫他們\n",
      "13      s106667  2020-04-13 14:18:01             [新聞] 輸不起?貝弗利2K被淘汰 直接不理艾頓甩\n",
      "14  takuminauki  2020-04-13 15:30:21          Re: [新聞] 點名鄧肯與華勒斯 賈奈特：把自己推到另\n",
      "15      Ensidia  2020-04-13 15:42:56       Re: [花邊] 火箭老闆:快速解雇45000員工其實是幫他們\n",
      "16  namie810303  2020-04-13 15:56:58                  [公告] KThompson 水桶 兩年\n",
      "17   thnlkj0665  2020-04-13 16:12:25  [情報] Trae Young 在HORSE投籃比賽不敵 Billups\n",
      "18    fukawa947  2020-04-13 17:08:55               [花邊] 詹皇身軀有多巨大？大陸前國手：隊友直\n"
     ]
    }
   ],
   "source": [
    "#使用迴圈可抓取多頁\n",
    "count=0\n",
    "link=newlink\n",
    "while count<2: #想印出幾頁就跑幾次迴圈\n",
    "    link=PageData(link) #將回傳的上一頁url做為新的url丟進函式獲得另一頁的資料\n",
    "    count+=1"
   ]
  },
  {
   "cell_type": "markdown",
   "metadata": {},
   "source": [
    "### ③ 試著爬爬看其他版的文章"
   ]
  },
  {
   "cell_type": "code",
   "execution_count": 36,
   "metadata": {},
   "outputs": [
    {
     "name": "stdout",
     "output_type": "stream",
     "text": [
      "           作者                   時間                                          標題\n",
      "0        j547  2020-04-13 23:25:09                            Re: [標的] 道瓊 伊歐玟空\n",
      "1        Su22  2020-04-13 23:53:23                    [新聞] 陸企裁員潮 海信集團驚傳裁員萬人坦承形\n",
      "2     dust777  2020-04-14 00:06:09                  [標的] 9910 豐泰 多 / 5871 中租 多\n",
      "3       IanLi  2015-01-25 23:18:25                               [公告] 精華區導覽Q&A\n",
      "4     eyespot  2018-11-03 21:36:51  [公告] Stock 板規V2.6             (2019/06/20)\n",
      "5   noldorelf  2020-03-28 22:48:52                                   [公告] 版規修正\n",
      "6     eyespot  2020-04-04 23:45:37                              [公告] 股票板板主徵選公告\n",
      "7  vendan5566  2020-04-13 14:00:02                        [閒聊] 2020/04/13 盤後閒聊\n",
      "              作者                   時間                                  標題\n",
      "0     steward135  2020-04-13 20:40:35               [其他] 109年04月13日信用交易統計\n",
      "1   fish19831012  2020-04-13 20:45:04        [新聞]國安基金靠10億元殺進殺出股市？蘇建榮不只這規模\n",
      "2          werqq  2020-04-13 20:47:01           Re: [請益] 如果爆發社區感染是否台股會暴跌？\n",
      "3     zu00405479  2020-04-13 20:49:21           [其他] 4/13台灣集中市場三大法人買賣超前三十\n",
      "4    heyjude1118  2020-04-13 20:51:39            Re: [心得] 元石油正二離4/22下市剩6天\n",
      "5     b991238136  2020-04-13 21:06:53             [新聞](中環) 本公司取得台灣高鐵普通股股票\n",
      "6       chen0625  2020-04-13 21:18:36         Re: [新聞](中環) 本公司取得台灣高鐵普通股股票\n",
      "7           j547  2020-04-13 21:19:59                        [標的] 道瓊 伊歐玟空\n",
      "8            a1e  2020-04-13 21:25:51  [新聞] 長江存儲正式發表 128 層 TLC/QLC NAND F\n",
      "9    freeman3310  2020-04-13 21:38:34            Re: [心得] 元石油正二離4/22下市剩6天\n",
      "10      GETpoint  2020-04-13 21:43:27            [新聞] 全球最大豬肉加工商因染疫關廠 警告肉類\n",
      "11   ReallyWayne  2020-04-13 21:50:56              Re: [請益] 股票除息之後貼息該如何操作\n",
      "12    charloette  2020-04-13 22:11:14    [新聞] 別太樂觀！Fed官員：美經濟恐面臨18個月多次反覆停擺\n",
      "13     than09138  2020-04-13 22:20:27       Re: [請益] 老爸信貸200萬要投入股票 該怎麼勸阻?\n",
      "14  lonelyboy616  2020-04-13 22:36:16                [請益] 美國人失業在家炒股可以炒多久？\n",
      "15      a3504121  2020-04-13 22:37:27             [新聞] 史上最大違約潮來襲？小摩上調抵押貸款\n",
      "16      WCisBest  2020-04-13 22:57:04                        [標的] 元大台灣50反\n",
      "17       Tuesday  2020-04-13 23:08:42              [新聞] 疫情限縮經濟活動 中鋼6月盤價看跌\n"
     ]
    }
   ],
   "source": [
    "#ptt Stock\n",
    "count=0\n",
    "link='https://www.ptt.cc/bbs/Stock/index.html'\n",
    "while count<2:\n",
    "    link=PageData(link) \n",
    "    count+=1"
   ]
  },
  {
   "cell_type": "code",
   "execution_count": null,
   "metadata": {},
   "outputs": [],
   "source": []
  }
 ],
 "metadata": {
  "kernelspec": {
   "display_name": "Python 3",
   "language": "python",
   "name": "python3"
  },
  "language_info": {
   "codemirror_mode": {
    "name": "ipython",
    "version": 3
   },
   "file_extension": ".py",
   "mimetype": "text/x-python",
   "name": "python",
   "nbconvert_exporter": "python",
   "pygments_lexer": "ipython3",
   "version": "3.7.4"
  }
 },
 "nbformat": 4,
 "nbformat_minor": 2
}
