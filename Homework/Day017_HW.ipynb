{
 "cells": [
  {
   "cell_type": "markdown",
   "metadata": {},
   "source": [
    "# HTTP 動態網頁架構說明\n",
    "\n",
    "\n",
    "* 了解動態網頁的資料爬蟲策略\n",
    "* 知道非同步網頁載入機制（Ajax）\n",
    "* 學習兩種對應動態網頁爬蟲的的策略\n"
   ]
  },
  {
   "cell_type": "markdown",
   "metadata": {},
   "source": [
    "## 作業目標\n",
    "\n",
    "回答以下問題：\n",
    "\n",
    "1. 動態網頁跟靜態網頁的差別是什麼？原本靜態網頁的做法會產生什麼問題或是缺點？\n",
    "2. 還記得我們在 ETTODAY 靜態爬蟲實作練習中，有請大家完成一個題目「取出今天所有的發文」，但仔細看其實並沒有真的把當天所有的新聞都抓回來， 試著回答看看原因是什麼？及該如何檢查？\n"
   ]
  },
  {
   "cell_type": "markdown",
   "metadata": {},
   "source": [
    "### 1. 動態網頁跟靜態網頁的差別是什麼？原本靜態網頁的做法會產生什麼問題或是缺點？"
   ]
  },
  {
   "cell_type": "markdown",
   "metadata": {},
   "source": [
    "    1.靜態網⾴頁是透過每一次使⽤用者請求，後端會產⽣生⼀次網⾴頁回傳，所以請求與回傳是一對一的。\n",
    "    動態網⾴頁的話，是透過 Ajax 的技術，來來完成非同步的資料傳輸。換句句話說，就是在網⾴頁上，任何時間點都可以發送請求給後端，後端只回傳資料，⽽而不是回傳整個網⾴頁。 動態網⾴頁與靜態網⾴頁最⼤大的不同是資料是在什什麼時間點取得的。動態網⾴頁是在瀏覽器已經取得 HTML 後，才透過 JavaScript 在需要時動態地取得資料。\n",
    "    2.靜態網頁因為是在每次發送requests時載入整個網頁，會使使用者體驗不佳，且消耗流量"
   ]
  },
  {
   "cell_type": "markdown",
   "metadata": {},
   "source": [
    "### 2. 還記得我們在 ETTODAY 靜態爬蟲實作練習中，有請大家完成一個題目「取出今天所有的發文」，但仔細看其實並沒有真的把當天所有的新聞都抓回來， 試著回答看看原因是什麼？及該如何檢查？"
   ]
  },
  {
   "cell_type": "markdown",
   "metadata": {},
   "source": [
    "通常網站在往下捲的時候，可以取得更多資料，會有這種行為是由JavaScript所執行的。如果僅透過Python執行爬蟲的話，卻沒有執行到JavaScript，此時是無法取得資料的。\n",
    "\n",
    "other offical answer: 更嚴謹的檢查可以把瀏覽器的 JavaScript 關閉，會發現無法網下載入更多資料，證明這個動作真的是由 JavaScript 在瀏覽器上運行的"
   ]
  }
 ],
 "metadata": {
  "kernelspec": {
   "display_name": "Python 3",
   "language": "python",
   "name": "python3"
  },
  "language_info": {
   "codemirror_mode": {
    "name": "ipython",
    "version": 3
   },
   "file_extension": ".py",
   "mimetype": "text/x-python",
   "name": "python",
   "nbconvert_exporter": "python",
   "pygments_lexer": "ipython3",
   "version": "3.7.4"
  }
 },
 "nbformat": 4,
 "nbformat_minor": 2
}
