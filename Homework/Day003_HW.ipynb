{
 "cells": [
  {
   "cell_type": "markdown",
   "metadata": {},
   "source": [
    "# Python 下載XML檔案與解析\n",
    "\n",
    "\n",
    "* 了解 xml 檔案格式與內容\n",
    "* 能夠利用套件存取 xml 格式的檔案\n"
   ]
  },
  {
   "cell_type": "markdown",
   "metadata": {},
   "source": [
    "## 作業目標\n",
    "\n",
    "* 比較一下範例檔案中的「File I/O」與「xmltodict」讀出來的內容有什麼差異\n",
    "\n",
    "* 根據範例檔案的結果：\n",
    "    1. 請問高雄市有多少地區有溫度資料？\n",
    "    2. 請取出每一個地區所記錄的第一個時間點跟溫度\n",
    "    3. 請取出第一個地區所記錄的每一個時間點跟溫度"
   ]
  },
  {
   "cell_type": "markdown",
   "metadata": {},
   "source": [
    "### 比較一下範例檔案中的「File I/O」與「xmltodict」讀出來的內容有什麼差異\n"
   ]
  },
  {
   "cell_type": "markdown",
   "metadata": {},
   "source": [
    "* File I/O 開出來的檔案是str類型，須以slice的方式找到特定資訊，在資料的前後都會有<>包住 <屬性> 資料內容 </屬性>\n",
    "  觀看屬性上較為方便，一行只有一個屬性資料\n",
    "\n",
    "* xmltodict 為dictionary的資料型態，呼叫方式和陣列方式一樣\n",
    "  觀看屬性上較為麻煩，因為巢狀結構的關係，會使他層層包起來，看起來眼花撩亂\n",
    "\n",
    "**xmltodict可以直接讀取目標資料，不用整個開file；而File I/O則是當如果不知道文件裡有什麼結構，可以用這種方式打開全文件**"
   ]
  },
  {
   "cell_type": "code",
   "execution_count": 2,
   "metadata": {},
   "outputs": [
    {
     "name": "stdout",
     "output_type": "stream",
     "text": [
      "File I/O is  <class 'str'> \n",
      " <?xml version=\"1.0\" encoding=\"UTF-8\"?>\n",
      "<CUPOY>\n",
      "    <Title>爬蟲馬拉松</Title>\n",
      "    <Author>Wei</Author>\n",
      "    <Chapters>\n",
      "        <Chapter name=\"01\">資料來源與存取</Chapter>\n",
      "        <Chapter name=\"02\">靜態網頁爬蟲</Chapter>\n",
      "        <Chapter name=\"03\">動態網頁爬蟲</Chapter>\n",
      "    </Chapters>\n",
      "</CUPOY>\n"
     ]
    },
    {
     "ename": "NameError",
     "evalue": "name 'doc' is not defined",
     "output_type": "error",
     "traceback": [
      "\u001b[1;31m---------------------------------------------------------------------------\u001b[0m",
      "\u001b[1;31mNameError\u001b[0m                                 Traceback (most recent call last)",
      "\u001b[1;32m<ipython-input-2-641cb36479d6>\u001b[0m in \u001b[0;36m<module>\u001b[1;34m\u001b[0m\n\u001b[0;32m     11\u001b[0m \u001b[1;33m\u001b[0m\u001b[0m\n\u001b[0;32m     12\u001b[0m \u001b[0mprint\u001b[0m\u001b[1;33m(\u001b[0m\u001b[1;34m'File I/O is '\u001b[0m\u001b[1;33m,\u001b[0m \u001b[0mtype\u001b[0m\u001b[1;33m(\u001b[0m\u001b[0mf\u001b[0m\u001b[1;33m)\u001b[0m\u001b[1;33m,\u001b[0m \u001b[1;34m'\\n'\u001b[0m\u001b[1;33m,\u001b[0m\u001b[0mf\u001b[0m\u001b[1;33m)\u001b[0m\u001b[1;33m\u001b[0m\u001b[1;33m\u001b[0m\u001b[0m\n\u001b[1;32m---> 13\u001b[1;33m \u001b[0mprint\u001b[0m\u001b[1;33m(\u001b[0m\u001b[1;34m'xmltodict is '\u001b[0m\u001b[1;33m,\u001b[0m\u001b[0mtype\u001b[0m\u001b[1;33m(\u001b[0m\u001b[0mdoc\u001b[0m\u001b[1;33m)\u001b[0m\u001b[1;33m,\u001b[0m \u001b[1;34m'\\n'\u001b[0m\u001b[1;33m,\u001b[0m\u001b[0mdic\u001b[0m\u001b[1;33m)\u001b[0m\u001b[1;33m\u001b[0m\u001b[1;33m\u001b[0m\u001b[0m\n\u001b[0m",
      "\u001b[1;31mNameError\u001b[0m: name 'doc' is not defined"
     ]
    }
   ],
   "source": [
    "# File I/O\n",
    "\n",
    "import os, sys\n",
    "with open('./example/Day003/sample.xml', \"r\",encoding='utf-8') as fh:\n",
    "    f = fh.read()\n",
    "\n",
    "# xmltodict    \n",
    "import xmltodict\n",
    "with open('./example/Day003/sample.xml',encoding='utf-8') as fd:\n",
    "    dic = dict(xmltodict.parse(fd.read()))\n",
    "\n",
    "print('File I/O is ', type(f), '\\n',f)\n",
    "print('xmltodict is ',type(doc), '\\n',dic)"
   ]
  },
  {
   "cell_type": "markdown",
   "metadata": {},
   "source": [
    "### 根據範例檔案的結果：\n",
    "\n",
    "1. 請問高雄市有多少地區有溫度資料？\n",
    "2. 請取出每一個地區所記錄的第一個時間點跟溫度\n",
    "3. 請取出第一個地區所記錄的每一個時間點跟溫度"
   ]
  },
  {
   "cell_type": "code",
   "execution_count": 5,
   "metadata": {},
   "outputs": [],
   "source": [
    "with open('./example/Day003/64_72HR_CH.xml','r',encoding='utf-8') as fd:\n",
    "    d = dict(xmltodict.parse(fd.read())) "
   ]
  },
  {
   "cell_type": "code",
   "execution_count": 20,
   "metadata": {},
   "outputs": [
    {
     "name": "stdout",
     "output_type": "stream",
     "text": [
      "高雄市有 38 區有溫度資料\n"
     ]
    }
   ],
   "source": [
    "# 1. 請問高雄市有多少地區有溫度資料？\n",
    "\n",
    "AllLoc = d['cwbopendata']['dataset']['locations']['location']\n",
    "print(\"高雄市有\",len(AllLoc),\"區有溫度資料\")"
   ]
  },
  {
   "cell_type": "code",
   "execution_count": 25,
   "metadata": {},
   "outputs": [
    {
     "name": "stdout",
     "output_type": "stream",
     "text": [
      "鹽埕區: 時間 2019-06-28T12:00:00+08:00 攝氏 33 度\n",
      "鼓山區: 時間 2019-06-28T12:00:00+08:00 攝氏 33 度\n",
      "左營區: 時間 2019-06-28T12:00:00+08:00 攝氏 33 度\n",
      "楠梓區: 時間 2019-06-28T12:00:00+08:00 攝氏 34 度\n",
      "三民區: 時間 2019-06-28T12:00:00+08:00 攝氏 32 度\n",
      "新興區: 時間 2019-06-28T12:00:00+08:00 攝氏 33 度\n",
      "前金區: 時間 2019-06-28T12:00:00+08:00 攝氏 33 度\n",
      "苓雅區: 時間 2019-06-28T12:00:00+08:00 攝氏 33 度\n",
      "前鎮區: 時間 2019-06-28T12:00:00+08:00 攝氏 33 度\n",
      "旗津區: 時間 2019-06-28T12:00:00+08:00 攝氏 32 度\n",
      "小港區: 時間 2019-06-28T12:00:00+08:00 攝氏 33 度\n",
      "鳳山區: 時間 2019-06-28T12:00:00+08:00 攝氏 34 度\n",
      "林園區: 時間 2019-06-28T12:00:00+08:00 攝氏 33 度\n",
      "大寮區: 時間 2019-06-28T12:00:00+08:00 攝氏 34 度\n",
      "大樹區: 時間 2019-06-28T12:00:00+08:00 攝氏 34 度\n",
      "大社區: 時間 2019-06-28T12:00:00+08:00 攝氏 34 度\n",
      "仁武區: 時間 2019-06-28T12:00:00+08:00 攝氏 33 度\n",
      "鳥松區: 時間 2019-06-28T12:00:00+08:00 攝氏 34 度\n",
      "岡山區: 時間 2019-06-28T12:00:00+08:00 攝氏 34 度\n",
      "橋頭區: 時間 2019-06-28T12:00:00+08:00 攝氏 35 度\n",
      "燕巢區: 時間 2019-06-28T12:00:00+08:00 攝氏 34 度\n",
      "田寮區: 時間 2019-06-28T12:00:00+08:00 攝氏 34 度\n",
      "阿蓮區: 時間 2019-06-28T12:00:00+08:00 攝氏 34 度\n",
      "路竹區: 時間 2019-06-28T12:00:00+08:00 攝氏 33 度\n",
      "湖內區: 時間 2019-06-28T12:00:00+08:00 攝氏 33 度\n",
      "茄萣區: 時間 2019-06-28T12:00:00+08:00 攝氏 33 度\n",
      "永安區: 時間 2019-06-28T12:00:00+08:00 攝氏 32 度\n",
      "彌陀區: 時間 2019-06-28T12:00:00+08:00 攝氏 32 度\n",
      "梓官區: 時間 2019-06-28T12:00:00+08:00 攝氏 32 度\n",
      "旗山區: 時間 2019-06-28T12:00:00+08:00 攝氏 34 度\n",
      "美濃區: 時間 2019-06-28T12:00:00+08:00 攝氏 34 度\n",
      "六龜區: 時間 2019-06-28T12:00:00+08:00 攝氏 34 度\n",
      "甲仙區: 時間 2019-06-28T12:00:00+08:00 攝氏 33 度\n",
      "杉林區: 時間 2019-06-28T12:00:00+08:00 攝氏 36 度\n",
      "內門區: 時間 2019-06-28T12:00:00+08:00 攝氏 34 度\n",
      "茂林區: 時間 2019-06-28T12:00:00+08:00 攝氏 34 度\n",
      "桃源區: 時間 2019-06-28T12:00:00+08:00 攝氏 31 度\n",
      "那瑪夏區: 時間 2019-06-28T12:00:00+08:00 攝氏 29 度\n"
     ]
    }
   ],
   "source": [
    "# 2. 請取出每一個地區所記錄的第一個時間點跟溫度\n",
    "for i in AllLoc:\n",
    "    for j in i['weatherElement']:\n",
    "        if j['description'] == '溫度':\n",
    "            print(\"%s: 時間 %s 攝氏 %s 度\"%(i[\"locationName\"],j[\"time\"][0][\"dataTime\"],j[\"time\"][0][\"elementValue\"][\"value\"]))"
   ]
  },
  {
   "cell_type": "code",
   "execution_count": 43,
   "metadata": {},
   "outputs": [
    {
     "name": "stdout",
     "output_type": "stream",
     "text": [
      "鹽埕區\n",
      "時間: 2019-06-28T12:00:00+08:00 攝氏 33 度\n",
      "時間: 2019-06-28T15:00:00+08:00 攝氏 33 度\n",
      "時間: 2019-06-28T18:00:00+08:00 攝氏 32 度\n",
      "時間: 2019-06-28T21:00:00+08:00 攝氏 30 度\n",
      "時間: 2019-06-29T00:00:00+08:00 攝氏 30 度\n",
      "時間: 2019-06-29T03:00:00+08:00 攝氏 29 度\n",
      "時間: 2019-06-29T06:00:00+08:00 攝氏 28 度\n",
      "時間: 2019-06-29T09:00:00+08:00 攝氏 31 度\n",
      "時間: 2019-06-29T12:00:00+08:00 攝氏 32 度\n",
      "時間: 2019-06-29T15:00:00+08:00 攝氏 32 度\n",
      "時間: 2019-06-29T18:00:00+08:00 攝氏 31 度\n",
      "時間: 2019-06-29T21:00:00+08:00 攝氏 30 度\n",
      "時間: 2019-06-30T00:00:00+08:00 攝氏 29 度\n",
      "時間: 2019-06-30T03:00:00+08:00 攝氏 28 度\n",
      "時間: 2019-06-30T06:00:00+08:00 攝氏 28 度\n",
      "時間: 2019-06-30T09:00:00+08:00 攝氏 31 度\n",
      "時間: 2019-06-30T12:00:00+08:00 攝氏 32 度\n",
      "時間: 2019-06-30T15:00:00+08:00 攝氏 32 度\n",
      "時間: 2019-06-30T18:00:00+08:00 攝氏 31 度\n",
      "時間: 2019-06-30T21:00:00+08:00 攝氏 30 度\n",
      "時間: 2019-07-01T00:00:00+08:00 攝氏 29 度\n",
      "時間: 2019-07-01T03:00:00+08:00 攝氏 29 度\n",
      "時間: 2019-07-01T06:00:00+08:00 攝氏 28 度\n",
      "時間: 2019-07-01T09:00:00+08:00 攝氏 31 度\n"
     ]
    }
   ],
   "source": [
    "# 3. 請取出第一個地區所記錄的每一個時間點跟溫度\n",
    "AllLoc = d['cwbopendata']['dataset']['locations']['location']\n",
    "firstLoc=AllLoc[0]\n",
    "print(firstLoc['locationName'])\n",
    "for i in AllLoc[0]['weatherElement']:\n",
    "    if i['description'] == '溫度':\n",
    "        for j in i[\"time\"]:\n",
    "            print(\"時間:\",j[\"dataTime\"],\"攝氏\",j[\"elementValue\"][\"value\"],\"度\")"
   ]
  },
  {
   "cell_type": "code",
   "execution_count": null,
   "metadata": {},
   "outputs": [],
   "source": []
  }
 ],
 "metadata": {
  "kernelspec": {
   "display_name": "Python 3",
   "language": "python",
   "name": "python3"
  },
  "language_info": {
   "codemirror_mode": {
    "name": "ipython",
    "version": 3
   },
   "file_extension": ".py",
   "mimetype": "text/x-python",
   "name": "python",
   "nbconvert_exporter": "python",
   "pygments_lexer": "ipython3",
   "version": "3.7.4"
  }
 },
 "nbformat": 4,
 "nbformat_minor": 2
}
